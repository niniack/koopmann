{
 "cells": [
  {
   "cell_type": "code",
   "execution_count": 5,
   "metadata": {},
   "outputs": [
    {
     "name": "stdout",
     "output_type": "stream",
     "text": [
      "The autoreload extension is already loaded. To reload it, use:\n",
      "  %reload_ext autoreload\n"
     ]
    }
   ],
   "source": [
    "from collections import OrderedDict\n",
    "from functools import reduce\n",
    "\n",
    "import matplotlib.pyplot as plt\n",
    "import torch\n",
    "import typer\n",
    "from joblib import Parallel, delayed\n",
    "from repsim.geometry.hypersphere import HyperSphere\n",
    "from repsim.kernels import Linear\n",
    "from repsim.metrics import AngularCKA, EuclideanShapeMetric\n",
    "from repsim.stats import ManifoldPCA, SphericalMDS\n",
    "from sklearn.decomposition import PCA\n",
    "from sklearn.manifold import MDS\n",
    "\n",
    "from koopmann import aesthetics\n",
    "from koopmann.data import (\n",
    "    DatasetConfig,\n",
    "    create_data_loader,\n",
    "    get_dataset_class,\n",
    ")\n",
    "from koopmann.models import MLP, ExponentialKoopmanAutencoder\n",
    "from koopmann.models.utils import get_device, parse_safetensors_metadata\n",
    "\n",
    "%load_ext autoreload\n",
    "%autoreload 2\n",
    "\n",
    "\n",
    "def get_dataloader(model_file_path: str, batch_size: int = 5_000):\n",
    "    \"\"\"Prepare dataloader.\"\"\"\n",
    "    # Dataset config\n",
    "    metadata = parse_safetensors_metadata(file_path=model_file_path)\n",
    "    dataset_config = DatasetConfig(\n",
    "        dataset_name=metadata[\"dataset\"],\n",
    "        num_samples=batch_size,\n",
    "        split=\"test\",\n",
    "        seed=21,\n",
    "    )\n",
    "    DatasetClass = get_dataset_class(name=dataset_config.dataset_name)\n",
    "    train_dataset = DatasetClass(config=dataset_config)\n",
    "\n",
    "    # Reduce to certain class\n",
    "    # idx = torch.where(train_dataset.labels == target_class)[0]\n",
    "    # subset = Subset(train_dataset, idx)\n",
    "    # loader = torch.utils.data.DataLoader(train_dataset, batch_size=10_000, shuffle=True)\n",
    "\n",
    "    dataloader = create_data_loader(train_dataset, batch_size=batch_size)\n",
    "    return dataloader\n",
    "\n",
    "\n",
    "def get_activations(model, autoencoder, batch, k_steps, device):\n",
    "    ################## FORWARD ###############\n",
    "    input, _ = batch\n",
    "    with torch.no_grad():\n",
    "        _ = model(input.to(device))\n",
    "    act_dict = model.get_fwd_activations()\n",
    "\n",
    "    ################## STATE SPACE PREDICTIONS ###############\n",
    "    new_keys = list(range(0, k_steps + 1))\n",
    "    with torch.no_grad():\n",
    "        decoded_act = autoencoder(x=act_dict[0], k=k_steps).predictions.cpu()\n",
    "    # ref_decoded = fit_pca(decoded_act[0])\n",
    "    # decoded_act = [process_pca_and_align(decoded, ref_decoded) for decoded in decoded_act]\n",
    "    decoded_act_dict = OrderedDict(zip(new_keys, decoded_act))\n",
    "\n",
    "    # ################## OBSERVABLE SPACE PREDICTIONS ###############\n",
    "    embedded_act = [autoencoder._encode(act_dict[0])] * (k_steps + 1)\n",
    "    with torch.no_grad():\n",
    "        embedded_act = [\n",
    "            act if i == 0 else reduce(lambda x, _: autoencoder.koopman_matrix(x), range(i), act)\n",
    "            for i, act in enumerate(embedded_act)\n",
    "        ]\n",
    "    # ref_embedded = fit_pca(embedded_act[0].cpu().detach())\n",
    "    # embedded_act = [\n",
    "    #     process_pca_and_align(embedded.cpu().detach().numpy(), ref_embedded)\n",
    "    #     for embedded in embedded_act\n",
    "    # ]\n",
    "    embedded_act_dict = OrderedDict(zip(new_keys, embedded_act))\n",
    "\n",
    "    return decoded_act_dict, embedded_act_dict\n"
   ]
  },
  {
   "cell_type": "code",
   "execution_count": 6,
   "metadata": {},
   "outputs": [],
   "source": [
    "################## FILENAME ###############\n",
    "scale_idx = 1\n",
    "k1 = 250\n",
    "k2 = 250\n",
    "\n",
    "dim1 = 128\n",
    "dim2 = 128\n",
    "model_name = \"mnist_model\"\n",
    "\n",
    "model_file_path = f\"/home/nsa325/work/koopmann/model_saves/{model_name}.safetensors\"\n",
    "ae1_file_path = f\"/home/nsa325/work/koopmann/model_saves/scaling/k_{k1}_dim_{dim1}_loc_{scale_idx}_autoencoder_{model_name}.safetensors\"\n",
    "ae2_file_path = f\"/home/nsa325/work/koopmann/model_saves/scaling/k_{k2}_dim_{dim2}_loc_{scale_idx}_autoencoder_{model_name}.safetensors\"\n",
    "\n",
    "# ae1_file_path = f\"/scratch/nsa325/koopmann/k_{k1}_dim_{dim}_loc_{scale_idx}_autoencoder_{model_name}.safetensors\"\n",
    "# ae2_file_path = f\"/scratch/nsa325/koopmann/k_{k2}_dim_{dim}_loc_{scale_idx}_autoencoder_{model_name}.safetensors\"\n"
   ]
  },
  {
   "cell_type": "code",
   "execution_count": 7,
   "metadata": {},
   "outputs": [
    {
     "name": "stdout",
     "output_type": "stream",
     "text": [
      "Using device cpu\n"
     ]
    }
   ],
   "source": [
    "device = get_device()\n",
    "print(f\"Using device {device}\")\n",
    "\n",
    "#################### DATA #################\n",
    "batch_size = 1_00\n",
    "dataloader = get_dataloader(model_file_path, batch_size)\n",
    "batch = next(iter(dataloader))\n",
    "input, labels = batch\n",
    "\n",
    "################### MODELS ################\n",
    "model, model_metadata = MLP.load_model(model_file_path)\n",
    "model.to(device).eval().hook_model()\n",
    "# autoencoder, ae_metadata = Autoencoder.load_model(ae_file_path)\n",
    "\n",
    "autoencoder1, ae_metadata = ExponentialKoopmanAutencoder.load_model(ae1_file_path)\n",
    "autoencoder1.to(device).eval()\n",
    "k1_steps = int(ae_metadata[\"num_scaled\"])\n",
    "\n",
    "autoencoder2, ae_metadata = ExponentialKoopmanAutencoder.load_model(ae2_file_path)\n",
    "autoencoder2.to(device).eval()\n",
    "k2_steps = int(ae_metadata[\"num_scaled\"])\n"
   ]
  },
  {
   "cell_type": "code",
   "execution_count": 8,
   "metadata": {},
   "outputs": [],
   "source": [
    "################# ACTIVATIONS ##############\n",
    "decoded_act_dict1, embedded_act_dict1 = get_activations(\n",
    "    model, autoencoder1, batch, k1_steps, device\n",
    ")\n",
    "\n",
    "decoded_act_dict2, embedded_act_dict2 = get_activations(\n",
    "    model, autoencoder2, batch, k2_steps, device\n",
    ")\n"
   ]
  },
  {
   "cell_type": "code",
   "execution_count": 9,
   "metadata": {},
   "outputs": [],
   "source": [
    "# NOTE: fix naming of dict\n",
    "with torch.no_grad():\n",
    "    _ = model(input.to(device))\n",
    "decoded_act_dict3 = model.get_fwd_activations()\n",
    "\n",
    "# Merge both activations\n",
    "merged_dict = {\n",
    "    i: value\n",
    "    for i, value in enumerate(\n",
    "        list(decoded_act_dict1.values())\n",
    "        + list(decoded_act_dict2.values())\n",
    "        + list(decoded_act_dict3.values())\n",
    "    )\n",
    "}"
   ]
  },
  {
   "cell_type": "code",
   "execution_count": 10,
   "metadata": {},
   "outputs": [
    {
     "data": {
      "image/png": "[encoded data removed]",
      "text/plain": [
       "<Figure size 600x600 with 2 Axes>"
      ]
     },
     "metadata": {},
     "output_type": "display_data"
    },
    {
     "data": {
      "text/plain": [
       "<Figure size 600x600 with 0 Axes>"
      ]
     },
     "metadata": {},
     "output_type": "display_data"
    }
   ],
   "source": [
    "########### DIST MATRIX VISUAL ##############\n",
    "metric = AngularCKA(m=batch_size, kernel=Linear())\n",
    "# metric = EuclideanShapeMetric(m=batch_size)\n",
    "\n",
    "\n",
    "# Define a helper function for the computation\n",
    "def compute_distances(i, act_dict, metric):\n",
    "    layer_dists = torch.empty(len(act_dict))\n",
    "    for j in act_dict.keys():\n",
    "        if i <= j:\n",
    "            dist = metric.length(\n",
    "                metric.neural_data_to_point(act_dict[i]),\n",
    "                metric.neural_data_to_point(act_dict[j]),\n",
    "            )\n",
    "            layer_dists[j] = dist\n",
    "        else:\n",
    "            layer_dists[j] = 0  # Placeholder, will be mirrored later\n",
    "    return i, layer_dists\n",
    "\n",
    "\n",
    "# Main parallel computation\n",
    "with torch.no_grad():\n",
    "    num_layers = len(merged_dict)\n",
    "    s_pair_dists = torch.empty((num_layers, num_layers))\n",
    "\n",
    "    results = Parallel(n_jobs=-1)(\n",
    "        delayed(compute_distances)(i, merged_dict, metric) for i in merged_dict.keys()\n",
    "    )\n",
    "\n",
    "    for i, layer_dists in results:\n",
    "        for j in range(len(layer_dists)):\n",
    "            if i <= j:\n",
    "                s_pair_dists[i][j] = layer_dists[j]\n",
    "                s_pair_dists[j][i] = layer_dists[j]  # Mirror the value\n",
    "            else:\n",
    "                s_pair_dists[i][j] = s_pair_dists[j][i]  # Fill mirrored values\n",
    "\n",
    "# Create the figure and axis\n",
    "plt.imshow(s_pair_dists, cmap=\"viridis\", interpolation=\"nearest\")\n",
    "plt.colorbar()\n",
    "plt.show()\n",
    "plt.clf()"
   ]
  },
  {
   "cell_type": "code",
   "execution_count": 11,
   "metadata": {},
   "outputs": [
    {
     "name": "stderr",
     "output_type": "stream",
     "text": [
      "/home/nsa325/work/koopmann/.venv/lib/python3.11/site-packages/sklearn/manifold/_mds.py:298: FutureWarning: The default value of `normalized_stress` will change to `'auto'` in version 1.4. To suppress this warning, manually set the value of `normalized_stress`.\n",
      "  warnings.warn(\n",
      "Ignoring fixed y limits to fulfill fixed data aspect with adjustable data limits.\n",
      "Ignoring fixed x limits to fulfill fixed data aspect with adjustable data limits.\n"
     ]
    },
    {
     "data": {
      "image/png": "[encoded data removed]",
      "text/plain": [
       "<Figure size 600x600 with 1 Axes>"
      ]
     },
     "metadata": {},
     "output_type": "display_data"
    }
   ],
   "source": [
    "########### TRAJECTORY #################3\n",
    "manifold_dim = 20\n",
    "num_pc = 3\n",
    "\n",
    "# sphere_mds = SphericalMDS(dim=manifold_dim, dissimilarity=\"precomputed\").fit(s_pair_dists)\n",
    "# sphere = HyperSphere(dim=manifold_dim)\n",
    "# pca = ManifoldPCA(space=sphere, n_components=num_pc)\n",
    "# coordinates = pca.fit_transform(sphere_mds.embedding_).float()\n",
    "\n",
    "mds = MDS(manifold_dim, dissimilarity=\"precomputed\").fit(s_pair_dists)\n",
    "pca = PCA(n_components=num_pc)\n",
    "coordinates = pca.fit_transform(mds.embedding_)\n",
    "\n",
    "x, y = coordinates[:, 0].tolist(), coordinates[:, 1].tolist()\n",
    "\n",
    "plt.scatter(x[0], y[0], color=\"black\", s=120, marker=\"s\", label=\"Start Point\")\n",
    "plt.scatter(x, y, color=\"grey\", s=10, label=\"Points\")\n",
    "\n",
    "# Add arrows for trajectory\n",
    "chunk_indices = [\n",
    "    len(decoded_act_dict1),\n",
    "    len(decoded_act_dict2),\n",
    "    len(decoded_act_dict3),\n",
    "]\n",
    "for i in range(1, len(chunk_indices)):\n",
    "    chunk_indices[i] = chunk_indices[i - 1] + chunk_indices[i]\n",
    "\n",
    "for start, end in zip([0] + chunk_indices[:-1], chunk_indices):\n",
    "    # Get the chunk of x and y\n",
    "    x_chunk = x[start:end]\n",
    "    y_chunk = y[start:end]\n",
    "\n",
    "    for i in range(len(x_chunk) - 1):\n",
    "        plt.quiver(\n",
    "            x_chunk[i],\n",
    "            y_chunk[i],  # Starting point of the arrow\n",
    "            x_chunk[i + 1] - x_chunk[i],\n",
    "            y_chunk[i + 1] - y_chunk[i],  # Direction of the arrow\n",
    "            angles=\"xy\",\n",
    "            scale_units=\"xy\",\n",
    "            scale=1,\n",
    "            color=\"#1f77b4\",  # Nice blue color\n",
    "            width=0.002,\n",
    "            headwidth=5,\n",
    "            headlength=7,\n",
    "        )\n",
    "# plt.title(\"2D Trajectory with Direction\")\n",
    "plt.xlabel(\"PC1\")\n",
    "plt.ylabel(\"PC2\")\n",
    "plt.axis(\"equal\")\n",
    "plt.xlim(min(x) - 0.1, max(x) + 0.1)\n",
    "plt.ylim(min(y) - 0.1, max(y) + 0.1)\n",
    "# plt.legend()\n",
    "plt.tick_params(\n",
    "    axis=\"both\",  # Apply changes to both x-axis and y-axis\n",
    "    which=\"both\",  # Affect both major and minor ticks\n",
    "    bottom=False,  # Turn off ticks along the bottom edge\n",
    "    top=False,  # Turn off ticks along the top edge\n",
    "    left=False,  # Turn off ticks along the left edge (y-axis)\n",
    "    right=False,  # Turn off ticks along the right edge (y-axis)\n",
    "    labelbottom=False,  # Turn off labels on the bottom edge (x-axis)\n",
    "    labelleft=False,  # Turn off labels on the left edge (y-axis)\n",
    ")\n",
    "plt.tight_layout()\n",
    "plt.show()\n"
   ]
  }
 ],
 "metadata": {
  "kernelspec": {
   "display_name": ".venv",
   "language": "python",
   "name": "python3"
  },
  "language_info": {
   "codemirror_mode": {
    "name": "ipython",
    "version": 3
   },
   "file_extension": ".py",
   "mimetype": "text/x-python",
   "name": "python",
   "nbconvert_exporter": "python",
   "pygments_lexer": "ipython3",
   "version": "3.11.3"
  }
 },
 "nbformat": 4,
 "nbformat_minor": 2
}
