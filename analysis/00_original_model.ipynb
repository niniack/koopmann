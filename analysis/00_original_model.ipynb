{
 "cells": [
  {
   "cell_type": "code",
   "execution_count": 1,
   "metadata": {},
   "outputs": [],
   "source": [
    "import matplotlib.pyplot as plt\n",
    "import seaborn as sns\n",
    "import torch\n",
    "from rich import print as rprint\n",
    "from torch import nn\n",
    "\n",
    "from koopmann import aesthetics\n",
    "from koopmann.data import (\n",
    "    DatasetConfig,\n",
    "    create_data_loader,\n",
    "    get_dataset_class,\n",
    ")\n",
    "from koopmann.models import MLP\n",
    "from koopmann.models.utils import parse_safetensors_metadata\n",
    "from koopmann.utils import (\n",
    "    compute_model_accuracy,\n",
    ")\n",
    "from koopmann.visualization import plot_decision_boundary\n",
    "\n",
    "%load_ext autoreload\n",
    "%autoreload 2"
   ]
  },
  {
   "cell_type": "code",
   "execution_count": 2,
   "metadata": {},
   "outputs": [],
   "source": [
    "model_name = \"fashion_model\""
   ]
  },
  {
   "cell_type": "code",
   "execution_count": 3,
   "metadata": {},
   "outputs": [
    {
     "data": {
      "text/plain": [
       "======================================================================\n",
       "Layer (type (var_name))                       Param #\n",
       "======================================================================\n",
       "MLP (MLP)                                     --\n",
       "+ Sequential (_features)                      --\n",
       "|    + LinearLayer (0)                        --\n",
       "|    |    + Sequential (layers)               201,472\n",
       "|    + LinearLayer (1)                        --\n",
       "|    |    + Sequential (layers)               33,152\n",
       "|    + LinearLayer (2)                        --\n",
       "|    |    + Sequential (layers)               8,384\n",
       "|    + LinearLayer (3)                        --\n",
       "|    |    + Sequential (layers)               1,072\n",
       "|    + LinearLayer (4)                        --\n",
       "|    |    + Sequential (layers)               190\n",
       "======================================================================\n",
       "Total params: 244,270\n",
       "Trainable params: 244,270\n",
       "Non-trainable params: 0\n",
       "======================================================================"
      ]
     },
     "execution_count": 3,
     "metadata": {},
     "output_type": "execute_result"
    }
   ],
   "source": [
    "file_path = f\"/scratch/nsa325/koopmann_model_saves/{model_name}.safetensors\"\n",
    "model, _ = MLP.load_model(file_path)\n",
    "model.eval()\n",
    "model.summary()"
   ]
  },
  {
   "cell_type": "code",
   "execution_count": 4,
   "metadata": {},
   "outputs": [
    {
     "data": {
      "text/html": [
       "<pre style=\"white-space:pre;overflow-x:auto;line-height:normal;font-family:Menlo,'DejaVu Sans Mono',consolas,'Courier New',monospace\"><span style=\"font-weight: bold\">{</span>\n",
       "    <span style=\"color: #008000; text-decoration-color: #008000\">'bias'</span>: <span style=\"color: #008000; text-decoration-color: #008000\">'True'</span>,\n",
       "    <span style=\"color: #008000; text-decoration-color: #008000\">'config'</span>: <span style=\"color: #008000; text-decoration-color: #008000\">'[256, 128, 64, 16]'</span>,\n",
       "    <span style=\"color: #008000; text-decoration-color: #008000\">'dataset'</span>: <span style=\"color: #008000; text-decoration-color: #008000\">'FashionMNISTDataset'</span>,\n",
       "    <span style=\"color: #008000; text-decoration-color: #008000\">'input_dimension'</span>: <span style=\"color: #008000; text-decoration-color: #008000\">'784'</span>,\n",
       "    <span style=\"color: #008000; text-decoration-color: #008000\">'nonlinearity'</span>: <span style=\"color: #008000; text-decoration-color: #008000\">'relu'</span>,\n",
       "    <span style=\"color: #008000; text-decoration-color: #008000\">'output_dimension'</span>: <span style=\"color: #008000; text-decoration-color: #008000\">'10'</span>\n",
       "<span style=\"font-weight: bold\">}</span>\n",
       "</pre>\n"
      ],
      "text/plain": [
       "\u001b[1m{\u001b[0m\n",
       "    \u001b[32m'bias'\u001b[0m: \u001b[32m'True'\u001b[0m,\n",
       "    \u001b[32m'config'\u001b[0m: \u001b[32m'\u001b[0m\u001b[32m[\u001b[0m\u001b[32m256, 128, 64, 16\u001b[0m\u001b[32m]\u001b[0m\u001b[32m'\u001b[0m,\n",
       "    \u001b[32m'dataset'\u001b[0m: \u001b[32m'FashionMNISTDataset'\u001b[0m,\n",
       "    \u001b[32m'input_dimension'\u001b[0m: \u001b[32m'784'\u001b[0m,\n",
       "    \u001b[32m'nonlinearity'\u001b[0m: \u001b[32m'relu'\u001b[0m,\n",
       "    \u001b[32m'output_dimension'\u001b[0m: \u001b[32m'10'\u001b[0m\n",
       "\u001b[1m}\u001b[0m\n"
      ]
     },
     "metadata": {},
     "output_type": "display_data"
    }
   ],
   "source": [
    "# Dataset config\n",
    "metadata = parse_safetensors_metadata(file_path=file_path)\n",
    "rprint(metadata)\n",
    "dataset_config = DatasetConfig(\n",
    "    dataset_name=metadata[\"dataset\"],\n",
    "    num_samples=3_000,\n",
    "    split=\"test\",\n",
    "    seed=42,\n",
    ")\n",
    "DatasetClass = get_dataset_class(name=dataset_config.dataset_name)\n",
    "dataset = DatasetClass(config=dataset_config)"
   ]
  },
  {
   "cell_type": "code",
   "execution_count": 5,
   "metadata": {},
   "outputs": [
    {
     "data": {
      "text/html": [
       "<pre style=\"white-space:pre;overflow-x:auto;line-height:normal;font-family:Menlo,'DejaVu Sans Mono',consolas,'Courier New',monospace\">Testing Accuracy: <span style=\"color: #008080; text-decoration-color: #008080; font-weight: bold\">0.8773999810218811</span>\n",
       "</pre>\n"
      ],
      "text/plain": [
       "Testing Accuracy: \u001b[1;36m0.8773999810218811\u001b[0m\n"
      ]
     },
     "metadata": {},
     "output_type": "display_data"
    }
   ],
   "source": [
    "rprint(f\"Testing Accuracy: {compute_model_accuracy(model, dataset)}\")"
   ]
  },
  {
   "cell_type": "code",
   "execution_count": 6,
   "metadata": {},
   "outputs": [],
   "source": [
    "if dataset.in_features == 2:\n",
    "    plot_decision_boundary(\n",
    "        model,\n",
    "        model.state_dict(),\n",
    "        dataset.features,\n",
    "        dataset.labels.squeeze(),\n",
    "        labels=[0, 1, 2],\n",
    "    )"
   ]
  },
  {
   "cell_type": "code",
   "execution_count": 7,
   "metadata": {},
   "outputs": [],
   "source": [
    "metadata = parse_safetensors_metadata(file_path=file_path)\n",
    "dataset_config = DatasetConfig(\n",
    "    dataset_name=metadata[\"dataset\"],\n",
    "    num_samples=5_000,\n",
    "    split=\"test\",\n",
    "    seed=21,\n",
    ")\n",
    "DatasetClass = get_dataset_class(name=dataset_config.dataset_name)\n",
    "dataset = DatasetClass(config=dataset_config)\n",
    "dataloader = create_data_loader(dataset, batch_size=1024)"
   ]
  },
  {
   "cell_type": "code",
   "execution_count": 8,
   "metadata": {},
   "outputs": [
    {
     "name": "stdout",
     "output_type": "stream",
     "text": [
      "tensor(-0.4253)\n",
      "tensor(0.3182)\n",
      "tensor(0.3313)\n",
      "tensor(0.3444)\n",
      "tensor(0.4664)\n",
      "tensor(-0.0513)\n"
     ]
    }
   ],
   "source": [
    "# Attach model hooks\n",
    "model.hook_model()\n",
    "\n",
    "# Raw forward pass\n",
    "images, labels = next(iter(dataloader))\n",
    "images = images.flatten(start_dim=1)\n",
    "with torch.no_grad():\n",
    "    _ = model.forward(images)\n",
    "\n",
    "all_acts = model.get_fwd_activations()\n",
    "\n",
    "print(images.mean())\n",
    "for key in all_acts.keys():\n",
    "    print(all_acts[key].mean())"
   ]
  }
 ],
 "metadata": {
  "kernelspec": {
   "display_name": ".venv",
   "language": "python",
   "name": "python3"
  },
  "language_info": {
   "codemirror_mode": {
    "name": "ipython",
    "version": 3
   },
   "file_extension": ".py",
   "mimetype": "text/x-python",
   "name": "python",
   "nbconvert_exporter": "python",
   "pygments_lexer": "ipython3",
   "version": "3.11.3"
  }
 },
 "nbformat": 4,
 "nbformat_minor": 2
}
