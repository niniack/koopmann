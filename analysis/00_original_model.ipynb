{
 "cells": [
  {
   "cell_type": "code",
   "execution_count": 29,
   "metadata": {},
   "outputs": [
    {
     "name": "stdout",
     "output_type": "stream",
     "text": [
      "The autoreload extension is already loaded. To reload it, use:\n",
      "  %reload_ext autoreload\n"
     ]
    }
   ],
   "source": [
    "import matplotlib.pyplot as plt\n",
    "import seaborn as sns\n",
    "import torch\n",
    "from torch import nn\n",
    "\n",
    "from koopmann import aesthetics\n",
    "from koopmann.data import (\n",
    "    DatasetConfig,\n",
    "    create_data_loader,\n",
    "    get_dataset_class,\n",
    ")\n",
    "from koopmann.models import MLP\n",
    "from koopmann.models.utils import parse_safetensors_metadata\n",
    "from koopmann.utils import (\n",
    "    compute_model_accuracy,\n",
    ")\n",
    "from koopmann.visualization import plot_decision_boundary\n",
    "\n",
    "%load_ext autoreload\n",
    "%autoreload 2"
   ]
  },
  {
   "cell_type": "code",
   "execution_count": 30,
   "metadata": {},
   "outputs": [],
   "source": [
    "model_name = \"mnist_model\""
   ]
  },
  {
   "cell_type": "code",
   "execution_count": 31,
   "metadata": {},
   "outputs": [
    {
     "data": {
      "text/plain": [
       "======================================================================\n",
       "Layer (type (var_name))                       Param #\n",
       "======================================================================\n",
       "MLP (MLP)                                     --\n",
       "+ Sequential (_features)                      --\n",
       "|    + LinearLayer (0)                        --\n",
       "|    |    + Sequential (layers)               100,736\n",
       "|    + LinearLayer (1)                        --\n",
       "|    |    + Sequential (layers)               8,384\n",
       "|    + LinearLayer (2)                        --\n",
       "|    |    + Sequential (layers)               2,144\n",
       "|    + LinearLayer (3)                        --\n",
       "|    |    + Sequential (layers)               560\n",
       "|    + LinearLayer (4)                        --\n",
       "|    |    + Sequential (layers)               190\n",
       "======================================================================\n",
       "Total params: 112,014\n",
       "Trainable params: 112,014\n",
       "Non-trainable params: 0\n",
       "======================================================================"
      ]
     },
     "execution_count": 31,
     "metadata": {},
     "output_type": "execute_result"
    }
   ],
   "source": [
    "file_path = f\"/home/nsa325/work/koopmann/model_saves/{model_name}.safetensors\"\n",
    "model, _ = MLP.load_model(file_path)\n",
    "model.eval()\n",
    "model.summary()"
   ]
  },
  {
   "cell_type": "code",
   "execution_count": 32,
   "metadata": {},
   "outputs": [
    {
     "name": "stdout",
     "output_type": "stream",
     "text": [
      "{'bias': 'True', 'config': '[128, 64, 32, 16]', 'dataset': 'MNISTDataset', 'input_dimension': '784', 'nonlinearity': 'relu', 'output_dimension': '10'}\n"
     ]
    }
   ],
   "source": [
    "# Dataset config\n",
    "metadata = parse_safetensors_metadata(file_path=file_path)\n",
    "print(metadata)\n",
    "dataset_config = DatasetConfig(\n",
    "    dataset_name=metadata[\"dataset\"],\n",
    "    num_samples=3_000,\n",
    "    split=\"test\",\n",
    "    seed=42,\n",
    ")\n",
    "DatasetClass = get_dataset_class(name=dataset_config.dataset_name)\n",
    "dataset = DatasetClass(config=dataset_config)"
   ]
  },
  {
   "cell_type": "code",
   "execution_count": 33,
   "metadata": {},
   "outputs": [
    {
     "name": "stdout",
     "output_type": "stream",
     "text": [
      "Testing Accuracy: 0.9757999777793884\n"
     ]
    }
   ],
   "source": [
    "print(f\"Testing Accuracy: {compute_model_accuracy(model, dataset)}\")"
   ]
  },
  {
   "cell_type": "code",
   "execution_count": 34,
   "metadata": {},
   "outputs": [],
   "source": [
    "if dataset.in_features == 2:\n",
    "    plot_decision_boundary(\n",
    "        model,\n",
    "        model.state_dict(),\n",
    "        dataset.features,\n",
    "        dataset.labels.squeeze(),\n",
    "        labels=[0, 1, 2],\n",
    "    )"
   ]
  },
  {
   "cell_type": "code",
   "execution_count": 35,
   "metadata": {},
   "outputs": [],
   "source": [
    "metadata = parse_safetensors_metadata(file_path=file_path)\n",
    "dataset_config = DatasetConfig(\n",
    "    dataset_name=metadata[\"dataset\"],\n",
    "    num_samples=5_000,\n",
    "    split=\"test\",\n",
    "    seed=21,\n",
    ")\n",
    "DatasetClass = get_dataset_class(name=dataset_config.dataset_name)\n",
    "dataset = DatasetClass(config=dataset_config)\n",
    "dataloader = create_data_loader(dataset, batch_size=1024)"
   ]
  },
  {
   "cell_type": "code",
   "execution_count": 54,
   "metadata": {},
   "outputs": [
    {
     "data": {
      "text/plain": [
       "MLP(\n",
       "  (_features): Sequential(\n",
       "    (0): LinearLayer(\n",
       "      (layers): Sequential(\n",
       "        (linear): Linear(in_features=784, out_features=128, bias=True)\n",
       "        (batchnorm): BatchNorm1d(128, eps=1e-05, momentum=0.1, affine=True, track_running_stats=True)\n",
       "        (nonlinearity): ReLU()\n",
       "      )\n",
       "    )\n",
       "    (1): LinearLayer(\n",
       "      (layers): Sequential(\n",
       "        (linear): Linear(in_features=128, out_features=64, bias=True)\n",
       "        (batchnorm): BatchNorm1d(64, eps=1e-05, momentum=0.1, affine=True, track_running_stats=True)\n",
       "        (nonlinearity): ReLU()\n",
       "      )\n",
       "    )\n",
       "    (2): LinearLayer(\n",
       "      (layers): Sequential(\n",
       "        (linear): Linear(in_features=64, out_features=32, bias=True)\n",
       "        (batchnorm): BatchNorm1d(32, eps=1e-05, momentum=0.1, affine=True, track_running_stats=True)\n",
       "        (nonlinearity): ReLU()\n",
       "      )\n",
       "    )\n",
       "    (3): LinearLayer(\n",
       "      (layers): Sequential(\n",
       "        (linear): Linear(in_features=32, out_features=16, bias=True)\n",
       "        (batchnorm): BatchNorm1d(16, eps=1e-05, momentum=0.1, affine=True, track_running_stats=True)\n",
       "        (nonlinearity): ReLU()\n",
       "      )\n",
       "    )\n",
       "    (4): LinearLayer(\n",
       "      (layers): Sequential(\n",
       "        (linear): Linear(in_features=16, out_features=10, bias=True)\n",
       "        (batchnorm): BatchNorm1d(10, eps=1e-05, momentum=0.1, affine=True, track_running_stats=True)\n",
       "      )\n",
       "    )\n",
       "  )\n",
       ")"
      ]
     },
     "execution_count": 54,
     "metadata": {},
     "output_type": "execute_result"
    }
   ],
   "source": [
    "model"
   ]
  },
  {
   "cell_type": "code",
   "execution_count": 53,
   "metadata": {},
   "outputs": [
    {
     "name": "stdout",
     "output_type": "stream",
     "text": [
      "tensor(0.0066)\n",
      "tensor(0.3071)\n",
      "tensor(0.2930)\n",
      "tensor(0.3090)\n",
      "tensor(0.3839)\n",
      "tensor(0.0026)\n"
     ]
    }
   ],
   "source": [
    "# Attach model hooks\n",
    "model.hook_model()\n",
    "\n",
    "# Raw forward pass\n",
    "images, labels = next(iter(dataloader))\n",
    "images = images.flatten(start_dim=1)\n",
    "with torch.no_grad():\n",
    "    _ = model.forward(images)\n",
    "\n",
    "all_acts = model.get_fwd_activations()\n",
    "\n",
    "print(images.mean())\n",
    "for key in all_acts.keys():\n",
    "    print(all_acts[key].mean())"
   ]
  },
  {
   "cell_type": "code",
   "execution_count": null,
   "metadata": {},
   "outputs": [],
   "source": []
  }
 ],
 "metadata": {
  "kernelspec": {
   "display_name": ".venv",
   "language": "python",
   "name": "python3"
  },
  "language_info": {
   "codemirror_mode": {
    "name": "ipython",
    "version": 3
   },
   "file_extension": ".py",
   "mimetype": "text/x-python",
   "name": "python",
   "nbconvert_exporter": "python",
   "pygments_lexer": "ipython3",
   "version": "3.11.3"
  }
 },
 "nbformat": 4,
 "nbformat_minor": 2
}
