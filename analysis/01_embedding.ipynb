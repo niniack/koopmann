{
 "cells": [
  {
   "cell_type": "code",
   "execution_count": null,
   "metadata": {},
   "outputs": [],
   "source": [
    "import ipywidgets as widgets\n",
    "import plotly.express as px\n",
    "import torch\n",
    "from IPython.display import clear_output, display\n",
    "from torch.utils.data import DataLoader, Subset\n",
    "\n",
    "from analysis.common import load_model\n",
    "from koopmann import aesthetics\n",
    "from koopmann.data import DatasetConfig, get_dataset_class\n",
    "from koopmann.log import logger\n",
    "from koopmann.utils import get_device, set_seed\n",
    "from scripts.train_ae.shape_metrics import build_acts_dict, preprocess_acts\n",
    "\n",
    "set_seed(21)\n",
    "\n",
    "%load_ext autoreload\n",
    "%autoreload 2"
   ]
  },
  {
   "cell_type": "markdown",
   "metadata": {},
   "source": [
    "Control panel"
   ]
  },
  {
   "cell_type": "code",
   "execution_count": null,
   "metadata": {},
   "outputs": [],
   "source": [
    "dataset_name = \"cifar10\"\n",
    "model_name = f\"convresnet_{dataset_name}\"\n",
    "file_dir = \"/Users/nsa325/Documents/koopmann_model_saves\"\n",
    "data_root = \"/Users/nsa325/datasets/\""
   ]
  },
  {
   "cell_type": "markdown",
   "metadata": {},
   "source": [
    "File setup"
   ]
  },
  {
   "cell_type": "code",
   "execution_count": null,
   "metadata": {},
   "outputs": [],
   "source": [
    "if dataset_name == \"lotusroot\":\n",
    "    dim = 20\n",
    "    scale_idx = 1\n",
    "    k_steps = 100\n",
    "    flavor = \"exponential\"\n",
    "elif dataset_name == \"mnist\":\n",
    "    dim = 800\n",
    "    scale_idx = 1\n",
    "    k_steps = 10\n",
    "    flavor = \"exponential\"\n",
    "elif dataset_name == \"cifar10\":\n",
    "    dim = 1_000\n",
    "    scale_idx = 1\n",
    "    k_steps = 100\n",
    "    flavor = \"exponential\"\n",
    "else:\n",
    "    raise NotImplementedError()\n",
    "\n",
    "ae_name = f\"dim_{dim}_k_{k_steps}_loc_{scale_idx}_{flavor}_autoencoder_{dataset_name}_model\"\n",
    "device = get_device()"
   ]
  },
  {
   "cell_type": "markdown",
   "metadata": {},
   "source": [
    "Load models"
   ]
  },
  {
   "cell_type": "code",
   "execution_count": null,
   "metadata": {},
   "outputs": [],
   "source": [
    "model, model_metadata = load_model(file_dir, model_name)\n",
    "model.eval().hook_model().to(device)\n",
    "print(\"Model: \", model_metadata)\n"
   ]
  },
  {
   "cell_type": "code",
   "execution_count": null,
   "metadata": {},
   "outputs": [],
   "source": [
    "dataset_config = DatasetConfig(\n",
    "    dataset_name=model_metadata[\"dataset\"],\n",
    "    num_samples=3_000,\n",
    "    split=\"train\",\n",
    "    seed=42,\n",
    ")\n",
    "DatasetClass = get_dataset_class(name=dataset_config.dataset_name)\n",
    "dataset = DatasetClass(config=dataset_config, root=data_root)\n",
    "\n",
    "subset_size = None\n",
    "if subset_size:\n",
    "    subset_indices = list(range(0, subset_size))\n",
    "    subset = Subset(dataset, subset_indices)\n",
    "\n",
    "batch_size = 5_000\n",
    "batch_size = min(subset_size, batch_size) if subset_size else batch_size\n",
    "dataloader = DataLoader(subset if subset_size else dataset, batch_size=batch_size, shuffle=False)"
   ]
  },
  {
   "cell_type": "code",
   "execution_count": null,
   "metadata": {},
   "outputs": [],
   "source": [
    "original_act_dict = build_acts_dict(\n",
    "    data_train_loader=dataloader, model=model, only_first_last=False, device=device\n",
    ")"
   ]
  },
  {
   "cell_type": "code",
   "execution_count": null,
   "metadata": {},
   "outputs": [],
   "source": [
    "svd_dim = 3\n",
    "whiten_alpha = 0.5\n",
    "processed_act_dict = preprocess_acts(\n",
    "    original_act_dict=original_act_dict,\n",
    "    svd_dim=svd_dim,\n",
    "    whiten_alpha=whiten_alpha,\n",
    "    preprocess_dict={},\n",
    "    device=device,\n",
    "    skip_svd=False,\n",
    ")"
   ]
  },
  {
   "cell_type": "code",
   "execution_count": null,
   "metadata": {},
   "outputs": [],
   "source": [
    "def update_plot(change):\n",
    "    # First clear everything\n",
    "    clear_output(wait=True)\n",
    "\n",
    "    # Re-display the slider first (so it appears above the plot)\n",
    "    display(layer_slider)\n",
    "\n",
    "    # Get the selected layer index and key\n",
    "    coords = processed_act_dict[layer_keys[layer_slider.value]].cpu()\n",
    "    target_categories = [str(t) for t in dataset.labels[:subset_size]]\n",
    "\n",
    "    # Create and display the new plot\n",
    "    fig = px.scatter_3d(\n",
    "        x=coords[:, 0],\n",
    "        y=coords[:, 1],\n",
    "        z=coords[:, 2],\n",
    "        color=target_categories,\n",
    "        color_discrete_sequence=px.colors.qualitative.T10,\n",
    "    )\n",
    "    fig.update_traces(marker_size=2)\n",
    "    fig.update_layout(showlegend=False)\n",
    "    fig.show()\n",
    "\n",
    "\n",
    "# Get the layer keys and convert to a list for indexing\n",
    "layer_keys = list(processed_act_dict.keys())\n",
    "layer_slider = widgets.IntSlider(\n",
    "    value=0,\n",
    "    min=0,\n",
    "    max=len(layer_keys) - 1,\n",
    "    step=1,\n",
    "    description=\"Layer:\",\n",
    "    continuous_update=False,  # Only update when slider is released\n",
    ")\n",
    "\n",
    "# Connect slider to update function\n",
    "layer_slider.observe(update_plot, names=\"value\")\n",
    "update_plot(None)"
   ]
  }
 ],
 "metadata": {
  "kernelspec": {
   "display_name": "koopmann-hxjVWsls-py3.11",
   "language": "python",
   "name": "python3"
  },
  "language_info": {
   "codemirror_mode": {
    "name": "ipython",
    "version": 3
   },
   "file_extension": ".py",
   "mimetype": "text/x-python",
   "name": "python",
   "nbconvert_exporter": "python",
   "pygments_lexer": "ipython3",
   "version": "3.11.10"
  }
 },
 "nbformat": 4,
 "nbformat_minor": 2
}
