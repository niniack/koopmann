{
 "cells": [
  {
   "cell_type": "code",
   "execution_count": 1,
   "metadata": {},
   "outputs": [],
   "source": [
    "import matplotlib.pyplot as plt\n",
    "import seaborn as sns\n",
    "import torch\n",
    "from rich import print as rprint\n",
    "from torch import nn\n",
    "\n",
    "from koopmann import aesthetics\n",
    "from koopmann.data import (\n",
    "    DatasetConfig,\n",
    "    create_data_loader,\n",
    "    get_dataset_class,\n",
    ")\n",
    "from koopmann.models import MLP\n",
    "from koopmann.models.utils import parse_safetensors_metadata\n",
    "from koopmann.utils import (\n",
    "    compute_model_accuracy,\n",
    ")\n",
    "from koopmann.visualization import plot_decision_boundary\n",
    "\n",
    "%load_ext autoreload\n",
    "%autoreload 2"
   ]
  },
  {
   "cell_type": "code",
   "execution_count": 2,
   "metadata": {},
   "outputs": [],
   "source": [
    "model_name = \"fashion_probed\""
   ]
  },
  {
   "cell_type": "code",
   "execution_count": 3,
   "metadata": {},
   "outputs": [],
   "source": [
    "file_path = f\"/scratch/nsa325/koopmann_model_saves/{model_name}.safetensors\"\n",
    "model, _ = MLP.load_model(file_path)\n",
    "\n",
    "# Update nonlinearities\n",
    "model.modules[-2].remove_nonlinearity()\n",
    "model.modules[-3].update_nonlinearity(\"leakyrelu\")\n",
    "model.eval()\n",
    "model.hook_model()"
   ]
  },
  {
   "cell_type": "code",
   "execution_count": 4,
   "metadata": {},
   "outputs": [
    {
     "data": {
      "text/html": [
       "<pre style=\"white-space:pre;overflow-x:auto;line-height:normal;font-family:Menlo,'DejaVu Sans Mono',consolas,'Courier New',monospace\"><span style=\"font-weight: bold\">{</span>\n",
       "    <span style=\"color: #008000; text-decoration-color: #008000\">'bias'</span>: <span style=\"color: #008000; text-decoration-color: #008000\">'True'</span>,\n",
       "    <span style=\"color: #008000; text-decoration-color: #008000\">'config'</span>: <span style=\"color: #008000; text-decoration-color: #008000\">'[256, 128, 64, 16, 784, 16]'</span>,\n",
       "    <span style=\"color: #008000; text-decoration-color: #008000\">'dataset'</span>: <span style=\"color: #008000; text-decoration-color: #008000\">'FashionMNISTDataset'</span>,\n",
       "    <span style=\"color: #008000; text-decoration-color: #008000\">'input_dimension'</span>: <span style=\"color: #008000; text-decoration-color: #008000\">'784'</span>,\n",
       "    <span style=\"color: #008000; text-decoration-color: #008000\">'nonlinearity'</span>: <span style=\"color: #008000; text-decoration-color: #008000\">'relu'</span>,\n",
       "    <span style=\"color: #008000; text-decoration-color: #008000\">'output_dimension'</span>: <span style=\"color: #008000; text-decoration-color: #008000\">'10'</span>\n",
       "<span style=\"font-weight: bold\">}</span>\n",
       "</pre>\n"
      ],
      "text/plain": [
       "\u001b[1m{\u001b[0m\n",
       "    \u001b[32m'bias'\u001b[0m: \u001b[32m'True'\u001b[0m,\n",
       "    \u001b[32m'config'\u001b[0m: \u001b[32m'\u001b[0m\u001b[32m[\u001b[0m\u001b[32m256, 128, 64, 16, 784, 16\u001b[0m\u001b[32m]\u001b[0m\u001b[32m'\u001b[0m,\n",
       "    \u001b[32m'dataset'\u001b[0m: \u001b[32m'FashionMNISTDataset'\u001b[0m,\n",
       "    \u001b[32m'input_dimension'\u001b[0m: \u001b[32m'784'\u001b[0m,\n",
       "    \u001b[32m'nonlinearity'\u001b[0m: \u001b[32m'relu'\u001b[0m,\n",
       "    \u001b[32m'output_dimension'\u001b[0m: \u001b[32m'10'\u001b[0m\n",
       "\u001b[1m}\u001b[0m\n"
      ]
     },
     "metadata": {},
     "output_type": "display_data"
    }
   ],
   "source": [
    "# Dataset config\n",
    "metadata = parse_safetensors_metadata(file_path=file_path)\n",
    "rprint(metadata)\n",
    "dataset_config = DatasetConfig(\n",
    "    dataset_name=metadata[\"dataset\"],\n",
    "    num_samples=3_000,\n",
    "    split=\"test\",\n",
    "    seed=42,\n",
    ")\n",
    "DatasetClass = get_dataset_class(name=dataset_config.dataset_name)\n",
    "dataset = DatasetClass(config=dataset_config)"
   ]
  },
  {
   "cell_type": "code",
   "execution_count": 5,
   "metadata": {},
   "outputs": [
    {
     "data": {
      "text/html": [
       "<pre style=\"white-space:pre;overflow-x:auto;line-height:normal;font-family:Menlo,'DejaVu Sans Mono',consolas,'Courier New',monospace\">Testing Accuracy: <span style=\"color: #008080; text-decoration-color: #008080; font-weight: bold\">0.8889999985694885</span>\n",
       "</pre>\n"
      ],
      "text/plain": [
       "Testing Accuracy: \u001b[1;36m0.8889999985694885\u001b[0m\n"
      ]
     },
     "metadata": {},
     "output_type": "display_data"
    }
   ],
   "source": [
    "rprint(f\"Testing Accuracy: {compute_model_accuracy(model, dataset)}\")"
   ]
  },
  {
   "cell_type": "code",
   "execution_count": 6,
   "metadata": {},
   "outputs": [
    {
     "data": {
      "text/plain": [
       "tensor([[-5.4831e-03, -5.7824e-04, -2.0669e-02,  ..., -1.1237e-02,\n",
       "          6.2775e-01,  1.2427e+00],\n",
       "        [-1.3846e-03, -3.1844e-03,  4.0118e-01,  ...,  1.6159e-02,\n",
       "         -9.3340e-03,  1.0704e-01],\n",
       "        [ 2.9792e-02, -1.6480e-02,  1.4419e+00,  ..., -8.8502e-03,\n",
       "         -4.4253e-03,  1.3427e+00],\n",
       "        ...,\n",
       "        [-3.2746e-04, -3.3126e-03,  5.9986e-01,  ..., -4.2345e-03,\n",
       "         -3.1315e-03, -1.0727e-03],\n",
       "        [ 5.5467e-01, -3.5242e-03,  8.6110e-01,  ..., -5.1412e-03,\n",
       "         -1.6345e-02, -9.5266e-03],\n",
       "        [ 1.3673e+00,  2.7034e-01,  7.4204e-01,  ...,  7.1479e-01,\n",
       "          1.0990e+00,  4.2091e-01]])"
      ]
     },
     "execution_count": 6,
     "metadata": {},
     "output_type": "execute_result"
    }
   ],
   "source": [
    "act_dict = model.get_fwd_activations()\n",
    "act_dict[4]"
   ]
  }
 ],
 "metadata": {
  "kernelspec": {
   "display_name": ".venv",
   "language": "python",
   "name": "python3"
  },
  "language_info": {
   "codemirror_mode": {
    "name": "ipython",
    "version": 3
   },
   "file_extension": ".py",
   "mimetype": "text/x-python",
   "name": "python",
   "nbconvert_exporter": "python",
   "pygments_lexer": "ipython3",
   "version": "3.11.3"
  }
 },
 "nbformat": 4,
 "nbformat_minor": 2
}
