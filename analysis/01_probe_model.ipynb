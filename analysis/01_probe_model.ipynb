{
 "cells": [
  {
   "cell_type": "code",
   "execution_count": 37,
   "metadata": {},
   "outputs": [
    {
     "name": "stdout",
     "output_type": "stream",
     "text": [
      "The autoreload extension is already loaded. To reload it, use:\n",
      "  %reload_ext autoreload\n"
     ]
    }
   ],
   "source": [
    "import matplotlib.pyplot as plt\n",
    "import seaborn as sns\n",
    "import torch\n",
    "from rich import print as rprint\n",
    "from torch import nn\n",
    "\n",
    "from koopmann import aesthetics\n",
    "from koopmann.data import (\n",
    "    DatasetConfig,\n",
    "    create_data_loader,\n",
    "    get_dataset_class,\n",
    ")\n",
    "from koopmann.models import MLP\n",
    "from koopmann.models.utils import parse_safetensors_metadata\n",
    "from koopmann.utils import (\n",
    "    compute_model_accuracy,\n",
    ")\n",
    "from koopmann.visualization import plot_decision_boundary\n",
    "\n",
    "%load_ext autoreload\n",
    "%autoreload 2"
   ]
  },
  {
   "cell_type": "code",
   "execution_count": 38,
   "metadata": {},
   "outputs": [],
   "source": [
    "model_name = \"mnist_probed\""
   ]
  },
  {
   "cell_type": "code",
   "execution_count": 39,
   "metadata": {},
   "outputs": [],
   "source": [
    "file_path = f\"/scratch/nsa325/koopmann_model_saves/{model_name}.safetensors\"\n",
    "model, _ = MLP.load_model(file_path)\n",
    "\n",
    "# Update nonlinearities\n",
    "model.modules[-2].remove_nonlinearity()\n",
    "model.modules[-3].update_nonlinearity(\"leakyrelu\")\n",
    "model.eval()\n",
    "model.hook_model()"
   ]
  },
  {
   "cell_type": "code",
   "execution_count": 40,
   "metadata": {},
   "outputs": [
    {
     "data": {
      "text/html": [
       "<pre style=\"white-space:pre;overflow-x:auto;line-height:normal;font-family:Menlo,'DejaVu Sans Mono',consolas,'Courier New',monospace\"><span style=\"font-weight: bold\">{</span>\n",
       "    <span style=\"color: #008000; text-decoration-color: #008000\">'bias'</span>: <span style=\"color: #008000; text-decoration-color: #008000\">'True'</span>,\n",
       "    <span style=\"color: #008000; text-decoration-color: #008000\">'config'</span>: <span style=\"color: #008000; text-decoration-color: #008000\">'[128, 64, 32, 16, 784, 16]'</span>,\n",
       "    <span style=\"color: #008000; text-decoration-color: #008000\">'dataset'</span>: <span style=\"color: #008000; text-decoration-color: #008000\">'MNISTDataset'</span>,\n",
       "    <span style=\"color: #008000; text-decoration-color: #008000\">'input_dimension'</span>: <span style=\"color: #008000; text-decoration-color: #008000\">'784'</span>,\n",
       "    <span style=\"color: #008000; text-decoration-color: #008000\">'nonlinearity'</span>: <span style=\"color: #008000; text-decoration-color: #008000\">'relu'</span>,\n",
       "    <span style=\"color: #008000; text-decoration-color: #008000\">'output_dimension'</span>: <span style=\"color: #008000; text-decoration-color: #008000\">'10'</span>\n",
       "<span style=\"font-weight: bold\">}</span>\n",
       "</pre>\n"
      ],
      "text/plain": [
       "\u001b[1m{\u001b[0m\n",
       "    \u001b[32m'bias'\u001b[0m: \u001b[32m'True'\u001b[0m,\n",
       "    \u001b[32m'config'\u001b[0m: \u001b[32m'\u001b[0m\u001b[32m[\u001b[0m\u001b[32m128, 64, 32, 16, 784, 16\u001b[0m\u001b[32m]\u001b[0m\u001b[32m'\u001b[0m,\n",
       "    \u001b[32m'dataset'\u001b[0m: \u001b[32m'MNISTDataset'\u001b[0m,\n",
       "    \u001b[32m'input_dimension'\u001b[0m: \u001b[32m'784'\u001b[0m,\n",
       "    \u001b[32m'nonlinearity'\u001b[0m: \u001b[32m'relu'\u001b[0m,\n",
       "    \u001b[32m'output_dimension'\u001b[0m: \u001b[32m'10'\u001b[0m\n",
       "\u001b[1m}\u001b[0m\n"
      ]
     },
     "metadata": {},
     "output_type": "display_data"
    }
   ],
   "source": [
    "# Dataset config\n",
    "metadata = parse_safetensors_metadata(file_path=file_path)\n",
    "rprint(metadata)\n",
    "dataset_config = DatasetConfig(\n",
    "    dataset_name=metadata[\"dataset\"],\n",
    "    num_samples=3_000,\n",
    "    split=\"test\",\n",
    "    seed=42,\n",
    ")\n",
    "DatasetClass = get_dataset_class(name=dataset_config.dataset_name)\n",
    "dataset = DatasetClass(config=dataset_config)"
   ]
  },
  {
   "cell_type": "code",
   "execution_count": 41,
   "metadata": {},
   "outputs": [
    {
     "data": {
      "text/html": [
       "<pre style=\"white-space:pre;overflow-x:auto;line-height:normal;font-family:Menlo,'DejaVu Sans Mono',consolas,'Courier New',monospace\">Testing Accuracy: <span style=\"color: #008080; text-decoration-color: #008080; font-weight: bold\">0.9771999716758728</span>\n",
       "</pre>\n"
      ],
      "text/plain": [
       "Testing Accuracy: \u001b[1;36m0.9771999716758728\u001b[0m\n"
      ]
     },
     "metadata": {},
     "output_type": "display_data"
    }
   ],
   "source": [
    "rprint(f\"Testing Accuracy: {compute_model_accuracy(model, dataset)}\")"
   ]
  },
  {
   "cell_type": "code",
   "execution_count": 42,
   "metadata": {},
   "outputs": [
    {
     "data": {
      "text/plain": [
       "tensor([[ 8.3945e-01,  1.3439e+00,  1.1622e+00,  ..., -1.0257e-02,\n",
       "          1.4405e+00, -2.2859e-03],\n",
       "        [-8.5872e-03, -6.6275e-03, -4.5610e-03,  ...,  9.9042e-01,\n",
       "         -7.5687e-03,  1.4994e-03],\n",
       "        [ 1.3039e-01, -8.5643e-03,  2.3912e-01,  ...,  6.8025e-01,\n",
       "         -4.0691e-03, -3.3473e-03],\n",
       "        ...,\n",
       "        [-1.5791e-03, -2.8675e-03, -5.0830e-03,  ...,  1.0581e+00,\n",
       "         -3.8913e-03,  8.3512e-01],\n",
       "        [ 1.6383e-01,  2.0019e+00,  5.6350e-01,  ..., -8.5797e-03,\n",
       "          1.9227e+00, -7.0373e-03],\n",
       "        [ 1.1906e+00,  6.4509e-01, -4.5690e-03,  ..., -8.8295e-03,\n",
       "         -1.1835e-02,  2.4179e-01]])"
      ]
     },
     "execution_count": 42,
     "metadata": {},
     "output_type": "execute_result"
    }
   ],
   "source": [
    "act_dict = model.get_fwd_activations()\n",
    "act_dict[4]"
   ]
  }
 ],
 "metadata": {
  "kernelspec": {
   "display_name": ".venv",
   "language": "python",
   "name": "python3"
  },
  "language_info": {
   "codemirror_mode": {
    "name": "ipython",
    "version": 3
   },
   "file_extension": ".py",
   "mimetype": "text/x-python",
   "name": "python",
   "nbconvert_exporter": "python",
   "pygments_lexer": "ipython3",
   "version": "3.11.3"
  }
 },
 "nbformat": 4,
 "nbformat_minor": 2
}
