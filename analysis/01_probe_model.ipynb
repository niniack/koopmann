{
 "cells": [
  {
   "cell_type": "code",
   "execution_count": 20,
   "metadata": {},
   "outputs": [
    {
     "name": "stdout",
     "output_type": "stream",
     "text": [
      "The autoreload extension is already loaded. To reload it, use:\n",
      "  %reload_ext autoreload\n"
     ]
    }
   ],
   "source": [
    "from ast import literal_eval\n",
    "\n",
    "import matplotlib.pyplot as plt\n",
    "import seaborn as sns\n",
    "import torch\n",
    "from rich import print as rprint\n",
    "from safetensors.torch import load_model\n",
    "from torch import nn\n",
    "\n",
    "from analysis.common import alignment, plotsvals, sab, trajectories\n",
    "from koopmann import aesthetics\n",
    "from koopmann.data import (\n",
    "    DatasetConfig,\n",
    "    create_data_loader,\n",
    "    get_dataset_class,\n",
    ")\n",
    "from koopmann.models import MLP, ResMLP\n",
    "from koopmann.models.utils import parse_safetensors_metadata\n",
    "from koopmann.utils import (\n",
    "    compute_model_accuracy,\n",
    ")\n",
    "from koopmann.visualization import plot_decision_boundary\n",
    "\n",
    "%load_ext autoreload\n",
    "%autoreload 2"
   ]
  },
  {
   "cell_type": "code",
   "execution_count": 21,
   "metadata": {},
   "outputs": [],
   "source": [
    "residual = True\n",
    "model_name = \"mnist_probed\""
   ]
  },
  {
   "cell_type": "code",
   "execution_count": 22,
   "metadata": {},
   "outputs": [
    {
     "data": {
      "text/plain": [
       "===========================================================================\n",
       "Layer (type (var_name))                            Param #\n",
       "===========================================================================\n",
       "ResMLP (ResMLP)                                    --\n",
       "+ Sequential (_features)                           --\n",
       "|    + LinearLayer (0)                             --\n",
       "|    |    + Sequential (layers)                    402,432\n",
       "|    + ResidualBlock (1)                           --\n",
       "|    |    + LinearLayer (fc1)                      263,168\n",
       "|    |    + LinearLayer (fc2)                      263,168\n",
       "|    + ResidualBlock (2)                           --\n",
       "|    |    + LinearLayer (fc1)                      263,168\n",
       "|    |    + LinearLayer (fc2)                      263,168\n",
       "|    + ResidualBlock (3)                           --\n",
       "|    |    + LinearLayer (fc1)                      263,168\n",
       "|    |    + LinearLayer (fc2)                      263,168\n",
       "|    + ResidualBlock (4)                           --\n",
       "|    |    + LinearLayer (fc1)                      263,168\n",
       "|    |    + LinearLayer (fc2)                      263,168\n",
       "|    + ResidualBlock (5)                           --\n",
       "|    |    + LinearLayer (fc1)                      263,168\n",
       "|    |    + LinearLayer (fc2)                      263,168\n",
       "|    + ResidualBlock (6)                           --\n",
       "|    |    + LinearLayer (fc1)                      263,168\n",
       "|    |    + LinearLayer (fc2)                      263,168\n",
       "|    + ResidualBlock (7)                           --\n",
       "|    |    + LinearLayer (fc1)                      263,168\n",
       "|    |    + LinearLayer (fc2)                      263,168\n",
       "|    + ResidualBlock (8)                           --\n",
       "|    |    + LinearLayer (fc1)                      263,168\n",
       "|    |    + LinearLayer (fc2)                      263,168\n",
       "|    + ResidualBlock (9)                           --\n",
       "|    |    + LinearLayer (fc1)                      263,168\n",
       "|    |    + LinearLayer (fc2)                      263,168\n",
       "|    + ResidualBlock (10)                          --\n",
       "|    |    + LinearLayer (fc1)                      263,168\n",
       "|    |    + LinearLayer (fc2)                      263,168\n",
       "|    + ResidualBlock (11)                          --\n",
       "|    |    + LinearLayer (fc1)                      263,168\n",
       "|    |    + LinearLayer (fc2)                      263,168\n",
       "|    + ResidualBlock (12)                          --\n",
       "|    |    + LinearLayer (fc1)                      263,168\n",
       "|    |    + LinearLayer (fc2)                      263,168\n",
       "|    + ResidualBlock (13)                          --\n",
       "|    |    + LinearLayer (fc1)                      263,168\n",
       "|    |    + LinearLayer (fc2)                      263,168\n",
       "|    + ResidualBlock (14)                          --\n",
       "|    |    + LinearLayer (fc1)                      263,168\n",
       "|    |    + LinearLayer (fc2)                      263,168\n",
       "|    + ResidualBlock (15)                          --\n",
       "|    |    + LinearLayer (fc1)                      263,168\n",
       "|    |    + LinearLayer (fc2)                      263,168\n",
       "|    + LinearLayer (16)                            --\n",
       "|    |    + Sequential (layers)                    263,168\n",
       "|    + LinearLayer (17)                            --\n",
       "|    |    + Sequential (layers)                    263,168\n",
       "|    + LinearLayer (18)                            --\n",
       "|    |    + Sequential (layers)                    5,120\n",
       "===========================================================================\n",
       "Total params: 8,828,928\n",
       "Trainable params: 8,828,928\n",
       "Non-trainable params: 0\n",
       "==========================================================================="
      ]
     },
     "execution_count": 22,
     "metadata": {},
     "output_type": "execute_result"
    }
   ],
   "source": [
    "if residual:\n",
    "    file_path = f\"/scratch/nsa325/koopmann_model_saves/{model_name}_residual.safetensors\"\n",
    "    # Parse metadata\n",
    "    metadata = parse_safetensors_metadata(file_path=file_path)\n",
    "\n",
    "    # Load base model\n",
    "    model = ResMLP(\n",
    "        input_dimension=literal_eval(metadata[\"input_dimension\"]),\n",
    "        output_dimension=literal_eval(metadata[\"output_dimension\"]),\n",
    "        config=[512, 512, 512, 512, 512, 512, 512, 512, 512, 512, 512, 512, 512, 512, 512, 512],\n",
    "        nonlinearity=metadata[\"nonlinearity\"],\n",
    "        bias=literal_eval(metadata[\"bias\"]),\n",
    "        batchnorm=literal_eval(metadata[\"batchnorm\"]),\n",
    "    )\n",
    "    insert_index = len(model.modules) - 2\n",
    "    model.remove_layer(index=insert_index)\n",
    "    model.insert_layer(index=insert_index, out_features=512, nonlinearity=\"relu\")\n",
    "    model.insert_layer(index=insert_index + 1, nonlinearity=\"relu\")\n",
    "\n",
    "    # Load weights\n",
    "    load_model(model, file_path, device=\"cpu\")\n",
    "else:\n",
    "    file_path = f\"/scratch/nsa325/koopmann_model_saves/{model_name}.safetensors\"\n",
    "    model, _ = MLP.load_model(file_path)\n",
    "model.eval()\n",
    "model.hook_model()\n",
    "model.summary()\n"
   ]
  },
  {
   "cell_type": "code",
   "execution_count": 23,
   "metadata": {},
   "outputs": [],
   "source": [
    "metadata = parse_safetensors_metadata(file_path=file_path)\n",
    "dataset_config = DatasetConfig(\n",
    "    dataset_name=metadata[\"dataset\"],\n",
    "    num_samples=5_000,\n",
    "    split=\"test\",\n",
    "    seed=21,\n",
    ")\n",
    "DatasetClass = get_dataset_class(name=dataset_config.dataset_name)\n",
    "dataset = DatasetClass(config=dataset_config)\n",
    "dataloader = create_data_loader(dataset, batch_size=1024)"
   ]
  },
  {
   "cell_type": "code",
   "execution_count": 24,
   "metadata": {},
   "outputs": [
    {
     "data": {
      "text/html": [
       "<pre style=\"white-space:pre;overflow-x:auto;line-height:normal;font-family:Menlo,'DejaVu Sans Mono',consolas,'Courier New',monospace\">Testing Accuracy: <span style=\"color: #008080; text-decoration-color: #008080; font-weight: bold\">0.9887999892234802</span>\n",
       "</pre>\n"
      ],
      "text/plain": [
       "Testing Accuracy: \u001b[1;36m0.9887999892234802\u001b[0m\n"
      ]
     },
     "metadata": {},
     "output_type": "display_data"
    }
   ],
   "source": [
    "rprint(f\"Testing Accuracy: {compute_model_accuracy(model, dataset)}\")"
   ]
  }
 ],
 "metadata": {
  "kernelspec": {
   "display_name": ".venv",
   "language": "python",
   "name": "python3"
  },
  "language_info": {
   "codemirror_mode": {
    "name": "ipython",
    "version": 3
   },
   "file_extension": ".py",
   "mimetype": "text/x-python",
   "name": "python",
   "nbconvert_exporter": "python",
   "pygments_lexer": "ipython3",
   "version": "3.11.3"
  }
 },
 "nbformat": 4,
 "nbformat_minor": 2
}
