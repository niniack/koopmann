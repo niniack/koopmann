{
 "cells": [
  {
   "cell_type": "code",
   "execution_count": null,
   "metadata": {},
   "outputs": [],
   "source": [
    "import matplotlib.pyplot as plt\n",
    "import seaborn as sns\n",
    "import torch\n",
    "from rich import print as rprint\n",
    "from torch import nn\n",
    "\n",
    "from koopmann import aesthetics\n",
    "from koopmann.data import (\n",
    "    DatasetConfig,\n",
    "    create_data_loader,\n",
    "    get_dataset_class,\n",
    ")\n",
    "from koopmann.models import MLP\n",
    "from koopmann.models.utils import parse_safetensors_metadata\n",
    "from koopmann.utils import (\n",
    "    compute_model_accuracy,\n",
    ")\n",
    "from koopmann.visualization import plot_decision_boundary\n",
    "\n",
    "%load_ext autoreload\n",
    "%autoreload 2"
   ]
  },
  {
   "cell_type": "code",
   "execution_count": null,
   "metadata": {},
   "outputs": [],
   "source": [
    "model_name = \"mnist_probed\""
   ]
  },
  {
   "cell_type": "code",
   "execution_count": null,
   "metadata": {},
   "outputs": [],
   "source": [
    "file_path = f\"/scratch/nsa325/koopmann_model_saves/{model_name}.safetensors\"\n",
    "model, _ = MLP.load_model(file_path)\n",
    "\n",
    "# Update nonlinearities\n",
    "model.modules[-2].remove_nonlinearity()\n",
    "# model.modules[-3].update_nonlinearity(\"leakyrelu\")\n",
    "model.modules[-2].remove_nonlinearity()\n",
    "model.eval()\n",
    "model.hook_model()"
   ]
  },
  {
   "cell_type": "code",
   "execution_count": null,
   "metadata": {},
   "outputs": [],
   "source": [
    "# Dataset config\n",
    "metadata = parse_safetensors_metadata(file_path=file_path)\n",
    "rprint(metadata)\n",
    "dataset_config = DatasetConfig(\n",
    "    dataset_name=metadata[\"dataset\"],\n",
    "    num_samples=3_000,\n",
    "    split=\"test\",\n",
    "    seed=42,\n",
    ")\n",
    "DatasetClass = get_dataset_class(name=dataset_config.dataset_name)\n",
    "dataset = DatasetClass(config=dataset_config)"
   ]
  },
  {
   "cell_type": "code",
   "execution_count": null,
   "metadata": {},
   "outputs": [],
   "source": [
    "rprint(f\"Testing Accuracy: {compute_model_accuracy(model, dataset)}\")"
   ]
  },
  {
   "cell_type": "code",
   "execution_count": null,
   "metadata": {},
   "outputs": [],
   "source": [
    "act_dict = model.get_fwd_activations()\n",
    "act_dict[4]"
   ]
  }
 ],
 "metadata": {
  "kernelspec": {
   "display_name": ".venv",
   "language": "python",
   "name": "python3"
  },
  "language_info": {
   "codemirror_mode": {
    "name": "ipython",
    "version": 3
   },
   "file_extension": ".py",
   "mimetype": "text/x-python",
   "name": "python",
   "nbconvert_exporter": "python",
   "pygments_lexer": "ipython3",
   "version": "3.11.3"
  }
 },
 "nbformat": 4,
 "nbformat_minor": 2
}
