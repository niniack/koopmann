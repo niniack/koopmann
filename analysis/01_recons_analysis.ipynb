{
 "cells": [
  {
   "cell_type": "code",
   "execution_count": null,
   "metadata": {},
   "outputs": [],
   "source": [
    "import math\n",
    "from ast import literal_eval\n",
    "\n",
    "import plotly.express as px\n",
    "import torch\n",
    "import torch.nn as nn\n",
    "import torch.nn.functional as F\n",
    "import torch.nn.utils.parametrize as parametrize\n",
    "from matrepr import mdisplay\n",
    "from plotly.subplots import make_subplots\n",
    "from safetensors.torch import load_file, load_model\n",
    "from torch import linalg\n",
    "from torch.nn.utils.parametrizations import orthogonal\n",
    "from torch.utils.data import DataLoader, Dataset\n",
    "from torcheval.metrics import MulticlassAccuracy\n",
    "\n",
    "from koopmann import aesthetics\n",
    "from koopmann.data import (\n",
    "    DatasetConfig,\n",
    "    create_data_loader,\n",
    "    get_dataset_class,\n",
    ")\n",
    "from koopmann.models import MLP, Autoencoder, ExponentialKoopmanAutencoder\n",
    "from koopmann.models.utils import (\n",
    "    get_device,\n",
    "    pad_act,\n",
    "    parse_safetensors_metadata,\n",
    ")\n",
    "\n",
    "# from koopmann.utils import compute_model_accuracy\n",
    "from koopmann.visualization import plot_eigenvalues\n",
    "\n",
    "%load_ext autoreload\n",
    "%autoreload 2"
   ]
  },
  {
   "cell_type": "code",
   "execution_count": null,
   "metadata": {},
   "outputs": [],
   "source": [
    "model_name = \"mnist_probed\"\n",
    "ae_name = \"mnist_model\"\n",
    "scale_idx = \"0\"\n",
    "k = \"1\"\n",
    "dim = \"1024\"\n",
    "user = \"gs4133\""
   ]
  },
  {
   "cell_type": "code",
   "execution_count": null,
   "metadata": {},
   "outputs": [],
   "source": [
    "# Original model path\n",
    "model_file_path = f\"/scratch/{user}/model_saves/{model_name}.safetensors\"\n",
    "\n",
    "# Autoenoder path in work dir\n",
    "ae_file_path = f\"/scratch/{user}/model_saves/k_{k}_dim_{dim}_loc_{scale_idx}_autoencoder_{ae_name}.safetensors\""
   ]
  },
  {
   "cell_type": "code",
   "execution_count": null,
   "metadata": {},
   "outputs": [],
   "source": [
    "model, _ = MLP.load_model(model_file_path)\n",
    "model.modules[-2].remove_nonlinearity()\n",
    "# model.modules[-3].update_nonlinearity(\"leakyrelu\")\n",
    "model.modules[-3].remove_nonlinearity()\n",
    "model.eval()\n",
    "model.hook_model()"
   ]
  },
  {
   "cell_type": "code",
   "execution_count": null,
   "metadata": {},
   "outputs": [],
   "source": [
    "metadata = parse_safetensors_metadata(file_path=model_file_path)\n",
    "dataset_config = DatasetConfig(\n",
    "    dataset_name=metadata[\"dataset\"],\n",
    "    num_samples=5_000,\n",
    "    split=\"test\",\n",
    "    seed=21,\n",
    ")\n",
    "DatasetClass = get_dataset_class(name=dataset_config.dataset_name)\n",
    "dataset = DatasetClass(config=dataset_config)\n",
    "dataloader = create_data_loader(dataset, batch_size=1024)"
   ]
  },
  {
   "cell_type": "code",
   "execution_count": null,
   "metadata": {},
   "outputs": [],
   "source": [
    "# Parse metadata\n",
    "metadata = parse_safetensors_metadata(file_path=ae_file_path)\n",
    "\n",
    "# Load base model\n",
    "autoencoder = Autoencoder(\n",
    "    input_dimension=literal_eval(metadata[\"input_dimension\"]),\n",
    "    latent_dimension=literal_eval(metadata[\"latent_dimension\"]),\n",
    "    nonlinearity=metadata[\"nonlinearity\"],\n",
    "    k=literal_eval(metadata[\"steps\"]),\n",
    "    batchnorm=literal_eval(metadata[\"batchnorm\"]),\n",
    "    hidden_configuration=literal_eval(metadata[\"hidden_configuration\"]),\n",
    ")\n",
    "\n",
    "# Load weights\n",
    "load_model(autoencoder, ae_file_path, device=\"cpu\", strict=True)\n",
    "autoencoder.eval()\n",
    "\n",
    "k = literal_eval(metadata[\"num_scaled\"])\n",
    "print(f\"Little K: {k}\")"
   ]
  },
  {
   "cell_type": "code",
   "execution_count": null,
   "metadata": {},
   "outputs": [],
   "source": [
    "K_matrix = autoencoder.koopman_matrix.linear_layer.weight.T.detach()"
   ]
  },
  {
   "cell_type": "code",
   "execution_count": null,
   "metadata": {},
   "outputs": [],
   "source": [
    "images, labels = next(iter(dataloader))"
   ]
  },
  {
   "cell_type": "code",
   "execution_count": null,
   "metadata": {},
   "outputs": [],
   "source": [
    "with torch.no_grad():\n",
    "    x = images.flatten(start_dim=1)\n",
    "    x_obs = autoencoder._encode(x)\n",
    "    pred_obs = x_obs @ K_matrix\n",
    "    x_recon = autoencoder._decode(x_obs)\n",
    "    x_pred = autoencoder._decode(pred_obs)"
   ]
  },
  {
   "cell_type": "code",
   "execution_count": null,
   "metadata": {},
   "outputs": [],
   "source": [
    "sample_idx = torch.randint(1024, (1,))[0].item()\n",
    "fig = make_subplots(rows=1, cols=2, subplot_titles=[\"Original\", \"Reconstructed\"])\n",
    "\n",
    "for i, img in enumerate([x[sample_idx], x_recon[sample_idx]], 1):\n",
    "    fig.add_trace(px.imshow(img.reshape(28, 28)).data[0], row=1, col=i)\n",
    "\n",
    "fig.update_layout(height=400, width=800, xaxis_scaleanchor=\"y\", xaxis2_scaleanchor=\"y2\")\n",
    "fig.show()\n",
    "\n",
    "print(f\"Error: {F.mse_loss(x[sample_idx], x_recon[sample_idx], reduction='sum')}\")"
   ]
  },
  {
   "cell_type": "code",
   "execution_count": null,
   "metadata": {},
   "outputs": [],
   "source": [
    "with torch.no_grad():\n",
    "    x = images.flatten(start_dim=1)\n",
    "    _ = model(x)\n",
    "    act_dict = model.get_fwd_activations()\n",
    "    probe_act = act_dict[4]\n",
    "    act_obs = autoencoder._encode(probe_act)\n",
    "    probe_recon = autoencoder._decode(act_obs)"
   ]
  },
  {
   "cell_type": "code",
   "execution_count": null,
   "metadata": {},
   "outputs": [],
   "source": [
    "fig = make_subplots(rows=1, cols=2, subplot_titles=[\"Original\", \"Reconstructed\"])\n",
    "\n",
    "for i, img in enumerate([probe_act[sample_idx], probe_recon[sample_idx]], 1):\n",
    "    fig.add_trace(px.imshow(img.reshape(28, 28)).data[0], row=1, col=i)\n",
    "\n",
    "fig.update_layout(height=400, width=800, xaxis_scaleanchor=\"y\", xaxis2_scaleanchor=\"y2\")\n",
    "fig.show()\n",
    "print(\n",
    "    f\"Reconstruction Error: {F.mse_loss(probe_act[sample_idx], probe_recon[sample_idx], reduction='sum')}\"\n",
    ")"
   ]
  },
  {
   "cell_type": "code",
   "execution_count": null,
   "metadata": {},
   "outputs": [],
   "source": [
    "fig = make_subplots(rows=1, cols=2, subplot_titles=[\"Observable\", \"Predicted Observable\"])\n",
    "\n",
    "for i, img in enumerate([act_obs[sample_idx], pred_obs[sample_idx]], 1):\n",
    "    fig.add_trace(\n",
    "        px.imshow(img.reshape(32, 32)).data[0],\n",
    "        row=1,\n",
    "        col=i,\n",
    "    )\n",
    "\n",
    "fig.update_layout(height=400, width=800, xaxis_scaleanchor=\"y\", xaxis2_scaleanchor=\"y2\")\n",
    "fig.show()\n",
    "print(\n",
    "    f\"Linear Prediction Error: {F.mse_loss(pred_obs[sample_idx], act_obs[sample_idx], reduction='sum')}\"\n",
    ")"
   ]
  },
  {
   "cell_type": "code",
   "execution_count": null,
   "metadata": {},
   "outputs": [],
   "source": [
    "fig = make_subplots(rows=1, cols=2, subplot_titles=[\"Original\", \"Predicted\"])\n",
    "\n",
    "for i, img in enumerate([probe_act[sample_idx], x_pred[sample_idx]], 1):\n",
    "    fig.add_trace(px.imshow(img.reshape(28, 28)).data[0], row=1, col=i)\n",
    "\n",
    "fig.update_layout(height=400, width=800, xaxis_scaleanchor=\"y\", xaxis2_scaleanchor=\"y2\")\n",
    "fig.show()\n",
    "print(f\"Error: {F.mse_loss(probe_act[sample_idx], x_pred[sample_idx], reduction='sum')}\")"
   ]
  },
  {
   "cell_type": "code",
   "execution_count": null,
   "metadata": {},
   "outputs": [],
   "source": [
    "def compute_model_accuracy(model, dataset, batch_size=1_024):\n",
    "    model.eval()\n",
    "    model.hook_model()\n",
    "    dataloader = DataLoader(dataset, batch_size=batch_size)\n",
    "\n",
    "    metric_original = MulticlassAccuracy()\n",
    "    metric_altered = MulticlassAccuracy()\n",
    "\n",
    "    device = get_device()\n",
    "\n",
    "    for batch in dataloader:\n",
    "        input, target = batch\n",
    "        input, target = input.to(device), target.to(device)\n",
    "        output_original = model(input)\n",
    "\n",
    "        pred_act = autoencoder(input.flatten(start_dim=1), k=1).predictions[-1]\n",
    "        output_altered = model.modules[-2:](pred_act)\n",
    "\n",
    "        metric_original.update(output_original, target.squeeze())\n",
    "        metric_altered.update(output_altered, target.squeeze())\n",
    "    return metric_original.compute(), metric_altered.compute()\n",
    "\n",
    "\n",
    "acc_orig, acc_ae = compute_model_accuracy(model.to(\"cpu\"), dataset)\n",
    "print(f\"Original Model Testing Accuracy: {acc_orig}\")\n",
    "print(f\"Autoencoder Prediction Testing Accuracy: {acc_ae}\")"
   ]
  },
  {
   "cell_type": "code",
   "execution_count": null,
   "metadata": {},
   "outputs": [],
   "source": [
    "eigenvalues, eigenvectors = torch.linalg.eig(K_matrix)\n",
    "plot_eigenvalues({(0, 0): eigenvalues})"
   ]
  },
  {
   "cell_type": "code",
   "execution_count": null,
   "metadata": {},
   "outputs": [],
   "source": []
  }
 ],
 "metadata": {
  "kernelspec": {
   "display_name": "koopmann-7pWOe0B--py3.10",
   "language": "python",
   "name": "python3"
  },
  "language_info": {
   "codemirror_mode": {
    "name": "ipython",
    "version": 3
   },
   "file_extension": ".py",
   "mimetype": "text/x-python",
   "name": "python",
   "nbconvert_exporter": "python",
   "pygments_lexer": "ipython3",
   "version": "3.10.4"
  }
 },
 "nbformat": 4,
 "nbformat_minor": 2
}
