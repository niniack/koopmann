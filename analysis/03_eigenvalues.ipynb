{
 "cells": [
  {
   "cell_type": "code",
   "execution_count": null,
   "metadata": {},
   "outputs": [],
   "source": [
    "import math\n",
    "from ast import literal_eval\n",
    "\n",
    "import matplotlib.pyplot as plt\n",
    "import numpy as np\n",
    "import pandas as pd\n",
    "import plotly.express as px\n",
    "import plotly.subplots as sp\n",
    "import seaborn as sns\n",
    "import torch\n",
    "import torch.nn as nn\n",
    "import torch.nn.functional as F\n",
    "import torch.nn.utils.parametrize as parametrize\n",
    "from matrepr import mdisplay\n",
    "from plotly.subplots import make_subplots\n",
    "from rich import print as rprint\n",
    "from torch import linalg\n",
    "from torch.utils.data import DataLoader, Dataset\n",
    "from torchvision import transforms\n",
    "\n",
    "from analysis.common import load_autoencoder, load_mlp\n",
    "from koopmann import aesthetics\n",
    "from koopmann.data import (\n",
    "    DatasetConfig,\n",
    "    create_data_loader,\n",
    "    get_dataset_class,\n",
    ")\n",
    "from koopmann.models import (\n",
    "    MLP,\n",
    "    Autoencoder,\n",
    "    ExponentialKoopmanAutencoder,\n",
    "    LowRankKoopmanAutoencoder,\n",
    "    ResMLP,\n",
    ")\n",
    "from koopmann.models.utils import get_device\n",
    "from koopmann.visualization import plot_eigenvalues\n",
    "\n",
    "%load_ext autoreload\n",
    "%autoreload 2"
   ]
  },
  {
   "cell_type": "code",
   "execution_count": 2,
   "metadata": {},
   "outputs": [],
   "source": [
    "from analysis.residual_alignment_methods import compare_model_autoencoder_acc"
   ]
  },
  {
   "cell_type": "code",
   "execution_count": 9,
   "metadata": {},
   "outputs": [],
   "source": [
    "scale_idx = \"0\"\n",
    "k = \"1\"\n",
    "dim = \"1024\"\n",
    "\n",
    "# flavor = \"exponential\"\n",
    "# flavor = \"standard\"\n",
    "flavor = \"lowrank_20\"\n",
    "\n",
    "user = \"nsa325\"\n",
    "\n",
    "file_dir = \"/scratch/nsa325/koopmann_model_saves/\"\n",
    "mlp_name = \"mnist_model_residual\"\n",
    "ae_name = f\"dim_{dim}_k_{k}_loc_{scale_idx}_{flavor}_autoencoder_mnist_model.safetensors\"\n"
   ]
  },
  {
   "cell_type": "markdown",
   "metadata": {},
   "source": [
    "Load and prepare MLP"
   ]
  },
  {
   "cell_type": "code",
   "execution_count": 4,
   "metadata": {},
   "outputs": [],
   "source": [
    "model, model_metadata = load_mlp(file_dir, mlp_name)"
   ]
  },
  {
   "cell_type": "markdown",
   "metadata": {},
   "source": [
    "Build autoencoder"
   ]
  },
  {
   "cell_type": "code",
   "execution_count": 7,
   "metadata": {},
   "outputs": [
    {
     "name": "stdout",
     "output_type": "stream",
     "text": [
      "mnist_model\n"
     ]
    }
   ],
   "source": [
    "print(ae_name)"
   ]
  },
  {
   "cell_type": "code",
   "execution_count": null,
   "metadata": {},
   "outputs": [
    {
     "ename": "AssertionError",
     "evalue": "Model file /scratch/nsa325/koopmann_model_saves//scaling/dim_1024_k_1_loc_0_lowrank_20_autoencoder_mnist_model.safetensors.safetensors does not exist.",
     "output_type": "error",
     "traceback": [
      "\u001b[0;31m---------------------------------------------------------------------------\u001b[0m",
      "\u001b[0;31mAssertionError\u001b[0m                            Traceback (most recent call last)",
      "Cell \u001b[0;32mIn[11], line 1\u001b[0m\n\u001b[0;32m----> 1\u001b[0m autoencoder, ae_metadata \u001b[38;5;241m=\u001b[39m \u001b[43mload_autoencoder\u001b[49m\u001b[43m(\u001b[49m\u001b[38;5;124;43mf\u001b[39;49m\u001b[38;5;124;43m\"\u001b[39;49m\u001b[38;5;132;43;01m{\u001b[39;49;00m\u001b[43mfile_dir\u001b[49m\u001b[38;5;132;43;01m}\u001b[39;49;00m\u001b[38;5;124;43m/scaling\u001b[39;49m\u001b[38;5;124;43m\"\u001b[39;49m\u001b[43m,\u001b[49m\u001b[43m \u001b[49m\u001b[43mae_name\u001b[49m\u001b[43m)\u001b[49m\n",
      "File \u001b[0;32m~/work/koopmann/analysis/common.py:22\u001b[0m, in \u001b[0;36mload_autoencoder\u001b[0;34m(file_dir, ae_name)\u001b[0m\n\u001b[1;32m     19\u001b[0m \u001b[38;5;28;01melif\u001b[39;00m \u001b[38;5;124m\"\u001b[39m\u001b[38;5;124mexponential\u001b[39m\u001b[38;5;124m\"\u001b[39m \u001b[38;5;129;01min\u001b[39;00m ae_name:\n\u001b[1;32m     20\u001b[0m     AutoencoderClass \u001b[38;5;241m=\u001b[39m ExponentialKoopmanAutencoder\n\u001b[0;32m---> 22\u001b[0m autoencoder, ae_metadata \u001b[38;5;241m=\u001b[39m \u001b[43mAutoencoderClass\u001b[49m\u001b[38;5;241;43m.\u001b[39;49m\u001b[43mload_model\u001b[49m\u001b[43m(\u001b[49m\n\u001b[1;32m     23\u001b[0m \u001b[43m    \u001b[49m\u001b[43mae_file_path\u001b[49m\u001b[43m,\u001b[49m\n\u001b[1;32m     24\u001b[0m \u001b[43m    \u001b[49m\u001b[43mstrict\u001b[49m\u001b[38;5;241;43m=\u001b[39;49m\u001b[38;5;28;43;01mTrue\u001b[39;49;00m\u001b[43m,\u001b[49m\n\u001b[1;32m     25\u001b[0m \u001b[43m    \u001b[49m\u001b[43mremove_param\u001b[49m\u001b[38;5;241;43m=\u001b[39;49m\u001b[38;5;28;43;01mTrue\u001b[39;49;00m\u001b[43m,\u001b[49m\n\u001b[1;32m     26\u001b[0m \u001b[43m\u001b[49m\u001b[43m)\u001b[49m\n\u001b[1;32m     27\u001b[0m _ \u001b[38;5;241m=\u001b[39m autoencoder\u001b[38;5;241m.\u001b[39meval()\n",
      "File \u001b[0;32m~/work/koopmann/koopmann/models/autoencoder.py:228\u001b[0m, in \u001b[0;36mAutoencoder.load_model\u001b[0;34m(cls, file_path, strict, remove_param, **kwargs)\u001b[0m\n\u001b[1;32m    225\u001b[0m \u001b[38;5;250m\u001b[39m\u001b[38;5;124;03m\"\"\"Load model.\"\"\"\u001b[39;00m\n\u001b[1;32m    227\u001b[0m \u001b[38;5;66;03m# Assert path\u001b[39;00m\n\u001b[0;32m--> 228\u001b[0m \u001b[38;5;28;01massert\u001b[39;00m Path(file_path)\u001b[38;5;241m.\u001b[39mexists(), \u001b[38;5;124mf\u001b[39m\u001b[38;5;124m\"\u001b[39m\u001b[38;5;124mModel file \u001b[39m\u001b[38;5;132;01m{\u001b[39;00mfile_path\u001b[38;5;132;01m}\u001b[39;00m\u001b[38;5;124m does not exist.\u001b[39m\u001b[38;5;124m\"\u001b[39m\n\u001b[1;32m    230\u001b[0m \u001b[38;5;66;03m# Parse metadata\u001b[39;00m\n\u001b[1;32m    231\u001b[0m metadata \u001b[38;5;241m=\u001b[39m parse_safetensors_metadata(file_path\u001b[38;5;241m=\u001b[39mfile_path)\n",
      "\u001b[0;31mAssertionError\u001b[0m: Model file /scratch/nsa325/koopmann_model_saves//scaling/dim_1024_k_1_loc_0_lowrank_20_autoencoder_mnist_model.safetensors.safetensors does not exist."
     ]
    }
   ],
   "source": [
    "autoencoder, ae_metadata = load_autoencoder(file_dir + \"scaling\", ae_name)"
   ]
  },
  {
   "cell_type": "markdown",
   "metadata": {},
   "source": [
    "Build data"
   ]
  },
  {
   "cell_type": "code",
   "execution_count": null,
   "metadata": {},
   "outputs": [],
   "source": [
    "dataset_config = DatasetConfig(\n",
    "    dataset_name=model_metadata[\"dataset\"], num_samples=5_000, split=\"test\", seed=21\n",
    ")\n",
    "DatasetClass = get_dataset_class(name=dataset_config.dataset_name)\n",
    "dataset = DatasetClass(config=dataset_config)\n",
    "\n",
    "# Raw images and labels\n",
    "raw_images, labels = dataset.data, dataset.labels\n",
    "\n",
    "# Processed for MLP\n",
    "mlp_transform = transforms.Compose(\n",
    "    [\n",
    "        transforms.Lambda(lambda x: x / 255),\n",
    "        transforms.Normalize((0.1307,), (0.3081,)),\n",
    "    ]\n",
    ")\n",
    "mlp_inputs = mlp_transform(raw_images)\n",
    "\n",
    "# Processed for AE\n",
    "ae_transform = transforms.Compose(\n",
    "    [\n",
    "        transforms.Lambda(lambda x: x / 255),\n",
    "        transforms.Lambda(lambda x: x * 2 - 1),\n",
    "    ]\n",
    ")\n",
    "ae_inputs = ae_transform(raw_images)"
   ]
  },
  {
   "cell_type": "code",
   "execution_count": null,
   "metadata": {},
   "outputs": [],
   "source": []
  },
  {
   "cell_type": "code",
   "execution_count": null,
   "metadata": {},
   "outputs": [],
   "source": [
    "K_matrix = autoencoder.koopman_matrix.linear_layer.weight.T.detach()\n",
    "k = literal_eval(ae_metadata[\"num_scaled\"])\n",
    "\n",
    "eigenvalues, eigenvectors = torch.linalg.eig(K_matrix)\n",
    "plot_eigenvalues({(k, dim): eigenvalues}, axis=[-3, 3])"
   ]
  },
  {
   "cell_type": "code",
   "execution_count": null,
   "metadata": {},
   "outputs": [],
   "source": [
    "# acc_mlp, acc_koopman = compare_model_autoencoder_acc(\n",
    "#     model, autoencoder, k, len(dataset.classes), mlp_inputs, ae_inputs, labels\n",
    "# )\n",
    "# mdisplay(acc_mlp, title=\"Original Model Testing Accuracy\")\n",
    "# mdisplay(acc_koopman, title=\"Autoencoder Prediction Testing Accuracy\")"
   ]
  }
 ],
 "metadata": {
  "kernelspec": {
   "display_name": ".venv",
   "language": "python",
   "name": "python3"
  },
  "language_info": {
   "codemirror_mode": {
    "name": "ipython",
    "version": 3
   },
   "file_extension": ".py",
   "mimetype": "text/x-python",
   "name": "python",
   "nbconvert_exporter": "python",
   "pygments_lexer": "ipython3",
   "version": "3.11.3"
  }
 },
 "nbformat": 4,
 "nbformat_minor": 2
}
