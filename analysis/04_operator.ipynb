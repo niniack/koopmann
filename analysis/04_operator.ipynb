{
 "cells": [
  {
   "cell_type": "code",
   "execution_count": 131,
   "metadata": {},
   "outputs": [
    {
     "name": "stdout",
     "output_type": "stream",
     "text": [
      "The autoreload extension is already loaded. To reload it, use:\n",
      "  %reload_ext autoreload\n"
     ]
    }
   ],
   "source": [
    "import math\n",
    "\n",
    "import plotly.express as px\n",
    "import torch\n",
    "import torch.nn.functional as F\n",
    "from plotly.subplots import make_subplots\n",
    "from safetensors import safe_open\n",
    "from torch.utils.data import DataLoader, Subset\n",
    "from torcheval.metrics import MulticlassAccuracy\n",
    "\n",
    "from analysis.common import load_autoencoder, load_model\n",
    "from koopmann import aesthetics\n",
    "from koopmann.data import DatasetConfig, get_dataset_class\n",
    "from koopmann.models import ConvResNet\n",
    "from koopmann.utils import set_seed\n",
    "from scripts.train_ae.shape_metrics import prepare_acts, undo_preprocessing_acts\n",
    "\n",
    "set_seed(21)\n",
    "\n",
    "%load_ext autoreload\n",
    "%autoreload 2"
   ]
  },
  {
   "cell_type": "markdown",
   "metadata": {},
   "source": [
    "Control panel"
   ]
  },
  {
   "cell_type": "code",
   "execution_count": 132,
   "metadata": {},
   "outputs": [],
   "source": [
    "dataset_name = \"lotusroot\"\n",
    "model_name = f\"resmlp_{dataset_name}\"\n",
    "file_dir = \"/Users/nsa325/Documents/koopmann_model_saves\"\n",
    "data_root = \"/Users/nsa325/datasets/\""
   ]
  },
  {
   "cell_type": "markdown",
   "metadata": {},
   "source": [
    "File setup"
   ]
  },
  {
   "cell_type": "code",
   "execution_count": 133,
   "metadata": {},
   "outputs": [],
   "source": [
    "if dataset_name == \"lotusroot\":\n",
    "    dim = 20\n",
    "    scale_idx = 1\n",
    "    k_steps = 100\n",
    "    flavor = \"exponential\"\n",
    "elif dataset_name == \"mnist\":\n",
    "    dim = 800\n",
    "    scale_idx = 1\n",
    "    k_steps = 10\n",
    "    flavor = \"exponential\"\n",
    "elif dataset_name == \"cifar10\":\n",
    "    dim = 1_000\n",
    "    scale_idx = 1\n",
    "    k_steps = 100\n",
    "    flavor = \"exponential\"\n",
    "else:\n",
    "    raise NotImplementedError()\n",
    "\n",
    "ae_name = f\"dim_{dim}_k_{k_steps}_loc_{scale_idx}_{flavor}_autoencoder_{dataset_name}_model\"\n",
    "device = \"cpu\""
   ]
  },
  {
   "cell_type": "markdown",
   "metadata": {},
   "source": [
    "Load models"
   ]
  },
  {
   "cell_type": "code",
   "execution_count": 134,
   "metadata": {},
   "outputs": [
    {
     "name": "stdout",
     "output_type": "stream",
     "text": [
      "Model:  {'batchnorm': True, 'bias': True, 'created_at': '2025-04-30T10:33:25.774294', 'dataset': 'LotusRootDataset', 'hidden_config': [10, 10, 10, 10], 'in_features': 2, 'model_class': 'ResMLP', 'nonlinearity': 'relu', 'out_features': 2, 'stochastic_depth_mode': 'batch', 'stochastic_depth_prob': 0.0}\n",
      "Autoencoder:  {'batchnorm': False, 'bias': True, 'created_at': '2025-05-01T13:48:07.748422', 'hidden_config': [30], 'in_features': 10, 'k_steps': 100, 'latent_features': 20, 'model_class': 'ExponentialKoopmanAutencoder', 'nonlinearity': 'leaky_relu', 'preprocess': True}\n"
     ]
    }
   ],
   "source": [
    "model, model_metadata = load_model(file_dir, model_name)\n",
    "model.eval().hook_model().to(device)\n",
    "print(\"Model: \", model_metadata)\n",
    "\n",
    "autoencoder, ae_metadata = load_autoencoder(file_dir, ae_name)\n",
    "autoencoder.eval().to(device)\n",
    "new_dim = ae_metadata[\"in_features\"]\n",
    "preprocess = ae_metadata[\"preprocess\"]\n",
    "K_matrix = autoencoder.koopman_weights.T\n",
    "print(\"Autoencoder: \", ae_metadata)"
   ]
  },
  {
   "cell_type": "code",
   "execution_count": 135,
   "metadata": {},
   "outputs": [],
   "source": [
    "dataset_config = DatasetConfig(\n",
    "    dataset_name=model_metadata[\"dataset\"],\n",
    "    num_samples=3_000,\n",
    "    split=\"test\",\n",
    "    seed=42,\n",
    ")\n",
    "DatasetClass = get_dataset_class(name=dataset_config.dataset_name)\n",
    "dataset = DatasetClass(config=dataset_config, root=data_root)\n",
    "\n",
    "subset_size = 1_000\n",
    "if subset_size:\n",
    "    subset_indices = list(range(0, subset_size))\n",
    "    subset = Subset(dataset, subset_indices)\n",
    "\n",
    "batch_size = 3_000\n",
    "batch_size = min(subset_size, batch_size) if subset_size else batch_size\n",
    "dataloader = DataLoader(subset if subset_size else dataset, batch_size=batch_size, shuffle=False)"
   ]
  },
  {
   "cell_type": "code",
   "execution_count": 136,
   "metadata": {},
   "outputs": [],
   "source": [
    "preproc_dict = {}\n",
    "with safe_open(\n",
    "    f\"{file_dir}/{ae_name}_preprocessing.safetensors\", framework=\"pt\", device=\"cpu\"\n",
    ") as f:\n",
    "    for k in f.keys():\n",
    "        preproc_dict[k] = f.get_tensor(k)"
   ]
  },
  {
   "cell_type": "code",
   "execution_count": 137,
   "metadata": {},
   "outputs": [
    {
     "name": "stdout",
     "output_type": "stream",
     "text": [
      "Preprocess activations?: True\n"
     ]
    }
   ],
   "source": [
    "print(f\"Preprocess activations?: {preprocess}\")\n",
    "orig_act_dict, proc_act_dict, _ = prepare_acts(\n",
    "    data_train_loader=dataloader,\n",
    "    model=model,\n",
    "    device=device,\n",
    "    svd_dim=ae_metadata[\"in_features\"],\n",
    "    whiten_alpha=preproc_dict[\"wh_alpha_0\"],\n",
    "    preprocess=preprocess,\n",
    "    preprocess_dict=preproc_dict,\n",
    "    only_first_last=True,\n",
    ")\n",
    "proc_act_dict = orig_act_dict if not preprocess else proc_act_dict\n",
    "init_idx = list(orig_act_dict.keys())[0]\n",
    "final_idx = list(orig_act_dict.keys())[-1]"
   ]
  },
  {
   "cell_type": "code",
   "execution_count": 138,
   "metadata": {},
   "outputs": [
    {
     "data": {
      "application/vnd.plotly.v1+json": {
       "config": {
        "plotlyServerURL": "https://plot.ly"
       },
       "data": [
        {
         "coloraxis": "coloraxis",
         "hovertemplate": "x: %{x}<br>y: %{y}<br>color: %{z}<extra></extra>",
         "name": "0",
         "type": "heatmap",
         "xaxis": "x",
         "yaxis": "y",
         "z": [
          [
           1.0077694654464722,
           -0.0009289465961046517,
           0.0005021202377974987,
           -0.0015654285671189427,
           0.001429219963029027,
           -0.0033980703447014093,
           0.0006014769896864891,
           0.003228923073038459,
           -0.002772117964923382,
           0.007659056223928928,
           0.0026855135802179575,
           -0.00092602166114375,
           0.0008654540870338678,
           -0.0007246540044434369,
           -0.00020932804909534752,
           0.00022996441111899912,
           0.0030868779867887497,
           -0.0019392017275094986,
           0.0004839948960579932,
           0.00091549102216959
          ],
          [
           -0.0007478648331016302,
           1.007764220237732,
           -0.0033709323033690453,
           0.005289208143949509,
           0.0009406862081959844,
           0.001165166380815208,
           0.000491567247081548,
           0.003794117132201791,
           0.0017508295131847262,
           0.0008382523083128035,
           0.0012127186637371778,
           -0.0005137671832926571,
           0.00014361896319314837,
           -0.00031143304659053683,
           0.0013544440735131502,
           0.0005677553708665073,
           0.0008601910667493939,
           0.0006068553193472326,
           0.00045479024993255734,
           -0.0005324480007402599
          ],
          [
           0.00004437100142240524,
           -0.00010505039972485974,
           1.0067137479782104,
           0.006263750605285168,
           0.0003711395838763565,
           -0.003161570057272911,
           0.003668084042146802,
           0.001152680371887982,
           0.0009260460501536727,
           -0.0019934631418436766,
           0.0031500370241701603,
           -0.0006120518082752824,
           -0.0003048873913940042,
           -0.0007798158912919462,
           0.0010240079136565328,
           0.0006727134459652007,
           0.0006730199092999101,
           -0.002428059233352542,
           0.0001914192398544401,
           0.002161225536838174
          ],
          [
           0.006336110644042492,
           0.006061470601707697,
           0.006722568534314632,
           1.0019506216049194,
           -0.0027126995846629143,
           0.0012601392809301615,
           -0.0007763894973322749,
           -0.00632103905081749,
           0.0017289610113948584,
           0.00010447143722558394,
           0.0031122067011892796,
           -0.0003018480783794075,
           0.0033594993874430656,
           -0.00008958321996033192,
           -0.003744605928659439,
           -0.005241907201707363,
           -0.001425228314474225,
           -0.004967079032212496,
           0.005238967482000589,
           0.004565414972603321
          ],
          [
           -0.0025371636729687452,
           -0.0005541295395232737,
           -0.002875932026654482,
           -0.003797877114266157,
           1.0048189163208008,
           0.002444470999762416,
           -0.00392879918217659,
           0.0023968545719981194,
           0.0017004046821966767,
           0.003882144344970584,
           -0.005063338670879602,
           0.002669042441993952,
           -0.00062606914434582,
           0.0009745163260959089,
           -0.010820353403687477,
           -0.0014918086817488074,
           -0.015002208761870861,
           0.0011678239097818732,
           -0.008809303864836693,
           -0.0012971622636541724
          ],
          [
           -0.004012522287666798,
           -0.007885050028562546,
           -0.004452985245734453,
           0.0025098947808146477,
           0.012726273387670517,
           1.0032674074172974,
           0.006753040477633476,
           -0.008452963083982468,
           -0.0023566337767988443,
           0.0016376381972804666,
           0.0013720914721488953,
           0.005385600496083498,
           0.002214574720710516,
           -0.0016673820791766047,
           0.012909726239740849,
           -0.0023522027768194675,
           0.004736969713121653,
           0.003955747000873089,
           0.00026138650719076395,
           0.009021681733429432
          ],
          [
           -0.00017356732860207558,
           0.0028892611153423786,
           -0.009366244077682495,
           0.00041495246114209294,
           -0.0012764384737238288,
           0.00077330123167485,
           1.0035642385482788,
           0.002571876160800457,
           0.0005297349998727441,
           -0.0029956039506942034,
           -0.005257228389382362,
           0.0020669777877628803,
           -0.0014626082265749574,
           -0.0001763582695275545,
           -0.005250790622085333,
           -0.0036806478165090084,
           -0.0017376838950440288,
           0.0032971154432743788,
           -0.0014143831795081496,
           -0.0036687697283923626
          ],
          [
           -0.002714579226449132,
           -0.006534340791404247,
           0.005721575114876032,
           -0.0009446485200896859,
           0.001624890835955739,
           0.0007598709780722857,
           0.006001288071274757,
           0.9977018237113953,
           0.00500108115375042,
           0.007502626162022352,
           -0.0009125946089625359,
           0.008543770760297775,
           -0.00279942131601274,
           0.0028946930542588234,
           0.0072100223042070866,
           -0.0012728144647553563,
           -0.0000338428326358553,
           0.0042239706963300705,
           0.002675179624930024,
           -0.00293620559386909
          ],
          [
           0.0016411254182457924,
           0.0009143809438683093,
           -0.0018668241100385785,
           0.0021869575139135122,
           0.0038304035551846027,
           -0.0027079861611127853,
           0.001309888670220971,
           0.010917813517153263,
           1.004270315170288,
           -0.007184825837612152,
           0.003586550010368228,
           0.0023806169629096985,
           0.00035148675669915974,
           0.0027725372929126024,
           0.004192129243165255,
           0.001344202202744782,
           0.0030184516217559576,
           -0.0007365893688984215,
           -0.003167621558532119,
           0.0010782725876197219
          ],
          [
           0.0018261403311043978,
           0.002225178759545088,
           0.002723554614931345,
           0.00256892922334373,
           0.0007724450551904738,
           0.0009807663736864924,
           0.0027157957665622234,
           0.0015055739786475897,
           0.004394213203340769,
           0.9968417286872864,
           0.0019646775908768177,
           0.001414543017745018,
           0.0007415827712975442,
           0.0036015736404806376,
           0.003955614287406206,
           0.002106150146573782,
           0.006072911433875561,
           0.001177679980173707,
           -0.0001868621911853552,
           -0.0034085086081176996
          ],
          [
           0.0011622575111687183,
           -0.0005175818223506212,
           0.0016919581685215235,
           0.0048300642520189285,
           0.0000902848769328557,
           0.0011950148036703467,
           0.0003229178546462208,
           -0.0017673650290817022,
           0.0006466875202022493,
           -0.007591465022414923,
           1.0063499212265015,
           -0.0016179924132302403,
           -0.0029571091290563345,
           0.0019262951100245118,
           0.00220251246355474,
           0.005184539593756199,
           0.005538962781429291,
           0.005071328021585941,
           -0.004015544429421425,
           0.0004098016070201993
          ],
          [
           -0.001319989445619285,
           0.0009471658850088716,
           0.000730405910871923,
           0.00004499432543525472,
           0.0014204259496182203,
           0.00043189397547394037,
           -0.0036252073477953672,
           0.003272939706221223,
           -0.0010395086137577891,
           0.0004518812638707459,
           0.00006395334639819339,
           1.005075216293335,
           -0.007023226004093885,
           -0.0018645585514605045,
           -0.000921321043279022,
           -0.0013732832157984376,
           0.001143939676694572,
           -0.0011954889632761478,
           0.00663940142840147,
           0.0033905168529599905
          ],
          [
           -0.0006642519147135317,
           0.000703033001627773,
           0.0017573954537510872,
           -0.009419025853276253,
           -0.0014835633337497711,
           0.005228497553616762,
           -0.004573787562549114,
           -0.0048243459314107895,
           -0.0003227434935979545,
           0.004596315324306488,
           -0.002302437089383602,
           -0.0029292169492691755,
           1.0055527687072754,
           -0.0004551768652163446,
           -0.0032033694442361593,
           -0.000746831065043807,
           -0.0023505440913140774,
           0.0004503636446315795,
           0.0015763046685606241,
           -0.0009296496864408255
          ],
          [
           -0.00003279546945123002,
           -0.00009889694047160447,
           -0.0018853662768378854,
           0.0012411191128194332,
           0.0011861500097438693,
           -0.0008750803535804152,
           0.003056323854252696,
           0.0003032649401575327,
           0.0014655631966888905,
           -0.00775857362896204,
           0.002716080052778125,
           -0.0014389065327122808,
           0.0007563806138932705,
           1.0076950788497925,
           -0.00007764776091789827,
           0.007762646768242121,
           0.0013933868613094091,
           -0.0007548330468125641,
           0.004884039051830769,
           -0.0006842008442617953
          ],
          [
           -0.0011157863773405552,
           -0.00043085316428914666,
           -0.0015286781126633286,
           0.00011821660154964775,
           0.0008731281268410385,
           0.00035287259379401803,
           -0.0018853549845516682,
           0.0025791730731725693,
           -0.0010495693422853947,
           -0.0004902763175778091,
           -0.0017899314407259226,
           -0.000521324691362679,
           0.002722879871726036,
           -0.0008283916395157576,
           1.0071918964385986,
           -0.00270485389046371,
           0.0001718411804176867,
           0.0005759461200796068,
           -0.00416267104446888,
           -0.001806495594792068
          ],
          [
           0.0007123997784219682,
           0.001049306127242744,
           -0.0008739331969991326,
           -0.0010943531524389982,
           0.001416943036019802,
           0.0020104856230318546,
           -0.010115589946508408,
           -0.0016328151104971766,
           -0.001009117579087615,
           0.006809104699641466,
           -0.0021331580355763435,
           0.001099892077036202,
           0.0005594190442934632,
           0.0006471024826169014,
           -0.002742546144872904,
           1.0048236846923828,
           -0.000022214957425603643,
           0.00027472362853586674,
           0.0010154293850064278,
           -0.0003402626025490463
          ],
          [
           -0.0015215802704915404,
           0.0005549577181227505,
           0.0024955871049314737,
           -0.003382213180884719,
           0.0023375360760837793,
           -0.0007883402286097407,
           0.004901259671896696,
           -0.0007840622565709054,
           0.001013759640045464,
           0.002857510931789875,
           -0.00015432956570293754,
           -0.00336275203153491,
           -0.0002325257082702592,
           -0.0032588024623692036,
           -0.008453181944787502,
           0.0032339345198124647,
           1.0064315795898438,
           -0.0047065760008990765,
           0.001969033619388938,
           0.001890810439363122
          ],
          [
           -0.002263037022203207,
           -0.003094488987699151,
           -0.0015802751295268536,
           -0.0019951744470745325,
           0.0020813113078475,
           -0.0046623810194432735,
           0.008412299677729607,
           -0.01817626878619194,
           -0.000007382539479294792,
           0.03991483151912689,
           0.0009469436481595039,
           0.0013368397485464811,
           -0.0015445412136614323,
           -0.002514834515750408,
           -0.00005242622864898294,
           -0.0005348583217710257,
           -0.0037136126775294542,
           1.0016875267028809,
           0.00626050541177392,
           0.0020630410872399807
          ],
          [
           -0.0018687413539737463,
           -0.00002116141331498511,
           -0.0025104570668190718,
           0.0029332744888961315,
           -0.000525334442500025,
           -0.005270101595669985,
           0.002374066039919853,
           0.004772320855408907,
           -0.0013045165687799454,
           -0.00857273954898119,
           0.0066948141902685165,
           0.0016065911622717977,
           0.0005164273898117244,
           0.005555686075240374,
           0.0196271613240242,
           0.002276152139529586,
           0.00032962666591629386,
           -0.0031384110916405916,
           1.0033957958221436,
           -0.002094684634357691
          ],
          [
           0.001417301595211029,
           0.0008095641387626529,
           -0.00017901149112731218,
           -0.003414879785850644,
           -0.0010703953448683023,
           0.003634200431406498,
           -0.00341174378991127,
           0.002511841943487525,
           0.00022306617756839842,
           0.0027860382106155157,
           -0.0030306994449347258,
           0.00014738804020453244,
           -0.0025510573759675026,
           -0.0016142451204359531,
           -0.008512313477694988,
           -0.002314875368028879,
           -0.003908121958374977,
           0.0007518490310758352,
           0.007940574549138546,
           1.0057909488677979
          ]
         ]
        }
       ],
       "layout": {
        "coloraxis": {
         "colorscale": [
          [
           0,
           "#0d0887"
          ],
          [
           0.1111111111111111,
           "#46039f"
          ],
          [
           0.2222222222222222,
           "#7201a8"
          ],
          [
           0.3333333333333333,
           "#9c179e"
          ],
          [
           0.4444444444444444,
           "#bd3786"
          ],
          [
           0.5555555555555556,
           "#d8576b"
          ],
          [
           0.6666666666666666,
           "#ed7953"
          ],
          [
           0.7777777777777778,
           "#fb9f3a"
          ],
          [
           0.8888888888888888,
           "#fdca26"
          ],
          [
           1,
           "#f0f921"
          ]
         ]
        },
        "margin": {
         "t": 60
        },
        "template": {
         "data": {
          "bar": [
           {
            "error_x": {
             "color": "#2a3f5f"
            },
            "error_y": {
             "color": "#2a3f5f"
            },
            "marker": {
             "line": {
              "color": "#E5ECF6",
              "width": 0.5
             },
             "pattern": {
              "fillmode": "overlay",
              "size": 10,
              "solidity": 0.2
             }
            },
            "type": "bar"
           }
          ],
          "barpolar": [
           {
            "marker": {
             "line": {
              "color": "#E5ECF6",
              "width": 0.5
             },
             "pattern": {
              "fillmode": "overlay",
              "size": 10,
              "solidity": 0.2
             }
            },
            "type": "barpolar"
           }
          ],
          "carpet": [
           {
            "aaxis": {
             "endlinecolor": "#2a3f5f",
             "gridcolor": "white",
             "linecolor": "white",
             "minorgridcolor": "white",
             "startlinecolor": "#2a3f5f"
            },
            "baxis": {
             "endlinecolor": "#2a3f5f",
             "gridcolor": "white",
             "linecolor": "white",
             "minorgridcolor": "white",
             "startlinecolor": "#2a3f5f"
            },
            "type": "carpet"
           }
          ],
          "choropleth": [
           {
            "colorbar": {
             "outlinewidth": 0,
             "ticks": ""
            },
            "type": "choropleth"
           }
          ],
          "contour": [
           {
            "colorbar": {
             "outlinewidth": 0,
             "ticks": ""
            },
            "colorscale": [
             [
              0,
              "#0d0887"
             ],
             [
              0.1111111111111111,
              "#46039f"
             ],
             [
              0.2222222222222222,
              "#7201a8"
             ],
             [
              0.3333333333333333,
              "#9c179e"
             ],
             [
              0.4444444444444444,
              "#bd3786"
             ],
             [
              0.5555555555555556,
              "#d8576b"
             ],
             [
              0.6666666666666666,
              "#ed7953"
             ],
             [
              0.7777777777777778,
              "#fb9f3a"
             ],
             [
              0.8888888888888888,
              "#fdca26"
             ],
             [
              1,
              "#f0f921"
             ]
            ],
            "type": "contour"
           }
          ],
          "contourcarpet": [
           {
            "colorbar": {
             "outlinewidth": 0,
             "ticks": ""
            },
            "type": "contourcarpet"
           }
          ],
          "heatmap": [
           {
            "colorbar": {
             "outlinewidth": 0,
             "ticks": ""
            },
            "colorscale": [
             [
              0,
              "#0d0887"
             ],
             [
              0.1111111111111111,
              "#46039f"
             ],
             [
              0.2222222222222222,
              "#7201a8"
             ],
             [
              0.3333333333333333,
              "#9c179e"
             ],
             [
              0.4444444444444444,
              "#bd3786"
             ],
             [
              0.5555555555555556,
              "#d8576b"
             ],
             [
              0.6666666666666666,
              "#ed7953"
             ],
             [
              0.7777777777777778,
              "#fb9f3a"
             ],
             [
              0.8888888888888888,
              "#fdca26"
             ],
             [
              1,
              "#f0f921"
             ]
            ],
            "type": "heatmap"
           }
          ],
          "heatmapgl": [
           {
            "colorbar": {
             "outlinewidth": 0,
             "ticks": ""
            },
            "colorscale": [
             [
              0,
              "#0d0887"
             ],
             [
              0.1111111111111111,
              "#46039f"
             ],
             [
              0.2222222222222222,
              "#7201a8"
             ],
             [
              0.3333333333333333,
              "#9c179e"
             ],
             [
              0.4444444444444444,
              "#bd3786"
             ],
             [
              0.5555555555555556,
              "#d8576b"
             ],
             [
              0.6666666666666666,
              "#ed7953"
             ],
             [
              0.7777777777777778,
              "#fb9f3a"
             ],
             [
              0.8888888888888888,
              "#fdca26"
             ],
             [
              1,
              "#f0f921"
             ]
            ],
            "type": "heatmapgl"
           }
          ],
          "histogram": [
           {
            "marker": {
             "pattern": {
              "fillmode": "overlay",
              "size": 10,
              "solidity": 0.2
             }
            },
            "type": "histogram"
           }
          ],
          "histogram2d": [
           {
            "colorbar": {
             "outlinewidth": 0,
             "ticks": ""
            },
            "colorscale": [
             [
              0,
              "#0d0887"
             ],
             [
              0.1111111111111111,
              "#46039f"
             ],
             [
              0.2222222222222222,
              "#7201a8"
             ],
             [
              0.3333333333333333,
              "#9c179e"
             ],
             [
              0.4444444444444444,
              "#bd3786"
             ],
             [
              0.5555555555555556,
              "#d8576b"
             ],
             [
              0.6666666666666666,
              "#ed7953"
             ],
             [
              0.7777777777777778,
              "#fb9f3a"
             ],
             [
              0.8888888888888888,
              "#fdca26"
             ],
             [
              1,
              "#f0f921"
             ]
            ],
            "type": "histogram2d"
           }
          ],
          "histogram2dcontour": [
           {
            "colorbar": {
             "outlinewidth": 0,
             "ticks": ""
            },
            "colorscale": [
             [
              0,
              "#0d0887"
             ],
             [
              0.1111111111111111,
              "#46039f"
             ],
             [
              0.2222222222222222,
              "#7201a8"
             ],
             [
              0.3333333333333333,
              "#9c179e"
             ],
             [
              0.4444444444444444,
              "#bd3786"
             ],
             [
              0.5555555555555556,
              "#d8576b"
             ],
             [
              0.6666666666666666,
              "#ed7953"
             ],
             [
              0.7777777777777778,
              "#fb9f3a"
             ],
             [
              0.8888888888888888,
              "#fdca26"
             ],
             [
              1,
              "#f0f921"
             ]
            ],
            "type": "histogram2dcontour"
           }
          ],
          "mesh3d": [
           {
            "colorbar": {
             "outlinewidth": 0,
             "ticks": ""
            },
            "type": "mesh3d"
           }
          ],
          "parcoords": [
           {
            "line": {
             "colorbar": {
              "outlinewidth": 0,
              "ticks": ""
             }
            },
            "type": "parcoords"
           }
          ],
          "pie": [
           {
            "automargin": true,
            "type": "pie"
           }
          ],
          "scatter": [
           {
            "fillpattern": {
             "fillmode": "overlay",
             "size": 10,
             "solidity": 0.2
            },
            "type": "scatter"
           }
          ],
          "scatter3d": [
           {
            "line": {
             "colorbar": {
              "outlinewidth": 0,
              "ticks": ""
             }
            },
            "marker": {
             "colorbar": {
              "outlinewidth": 0,
              "ticks": ""
             }
            },
            "type": "scatter3d"
           }
          ],
          "scattercarpet": [
           {
            "marker": {
             "colorbar": {
              "outlinewidth": 0,
              "ticks": ""
             }
            },
            "type": "scattercarpet"
           }
          ],
          "scattergeo": [
           {
            "marker": {
             "colorbar": {
              "outlinewidth": 0,
              "ticks": ""
             }
            },
            "type": "scattergeo"
           }
          ],
          "scattergl": [
           {
            "marker": {
             "colorbar": {
              "outlinewidth": 0,
              "ticks": ""
             }
            },
            "type": "scattergl"
           }
          ],
          "scattermapbox": [
           {
            "marker": {
             "colorbar": {
              "outlinewidth": 0,
              "ticks": ""
             }
            },
            "type": "scattermapbox"
           }
          ],
          "scatterpolar": [
           {
            "marker": {
             "colorbar": {
              "outlinewidth": 0,
              "ticks": ""
             }
            },
            "type": "scatterpolar"
           }
          ],
          "scatterpolargl": [
           {
            "marker": {
             "colorbar": {
              "outlinewidth": 0,
              "ticks": ""
             }
            },
            "type": "scatterpolargl"
           }
          ],
          "scatterternary": [
           {
            "marker": {
             "colorbar": {
              "outlinewidth": 0,
              "ticks": ""
             }
            },
            "type": "scatterternary"
           }
          ],
          "surface": [
           {
            "colorbar": {
             "outlinewidth": 0,
             "ticks": ""
            },
            "colorscale": [
             [
              0,
              "#0d0887"
             ],
             [
              0.1111111111111111,
              "#46039f"
             ],
             [
              0.2222222222222222,
              "#7201a8"
             ],
             [
              0.3333333333333333,
              "#9c179e"
             ],
             [
              0.4444444444444444,
              "#bd3786"
             ],
             [
              0.5555555555555556,
              "#d8576b"
             ],
             [
              0.6666666666666666,
              "#ed7953"
             ],
             [
              0.7777777777777778,
              "#fb9f3a"
             ],
             [
              0.8888888888888888,
              "#fdca26"
             ],
             [
              1,
              "#f0f921"
             ]
            ],
            "type": "surface"
           }
          ],
          "table": [
           {
            "cells": {
             "fill": {
              "color": "#EBF0F8"
             },
             "line": {
              "color": "white"
             }
            },
            "header": {
             "fill": {
              "color": "#C8D4E3"
             },
             "line": {
              "color": "white"
             }
            },
            "type": "table"
           }
          ]
         },
         "layout": {
          "annotationdefaults": {
           "arrowcolor": "#2a3f5f",
           "arrowhead": 0,
           "arrowwidth": 1
          },
          "autotypenumbers": "strict",
          "coloraxis": {
           "colorbar": {
            "outlinewidth": 0,
            "ticks": ""
           }
          },
          "colorscale": {
           "diverging": [
            [
             0,
             "#8e0152"
            ],
            [
             0.1,
             "#c51b7d"
            ],
            [
             0.2,
             "#de77ae"
            ],
            [
             0.3,
             "#f1b6da"
            ],
            [
             0.4,
             "#fde0ef"
            ],
            [
             0.5,
             "#f7f7f7"
            ],
            [
             0.6,
             "#e6f5d0"
            ],
            [
             0.7,
             "#b8e186"
            ],
            [
             0.8,
             "#7fbc41"
            ],
            [
             0.9,
             "#4d9221"
            ],
            [
             1,
             "#276419"
            ]
           ],
           "sequential": [
            [
             0,
             "#0d0887"
            ],
            [
             0.1111111111111111,
             "#46039f"
            ],
            [
             0.2222222222222222,
             "#7201a8"
            ],
            [
             0.3333333333333333,
             "#9c179e"
            ],
            [
             0.4444444444444444,
             "#bd3786"
            ],
            [
             0.5555555555555556,
             "#d8576b"
            ],
            [
             0.6666666666666666,
             "#ed7953"
            ],
            [
             0.7777777777777778,
             "#fb9f3a"
            ],
            [
             0.8888888888888888,
             "#fdca26"
            ],
            [
             1,
             "#f0f921"
            ]
           ],
           "sequentialminus": [
            [
             0,
             "#0d0887"
            ],
            [
             0.1111111111111111,
             "#46039f"
            ],
            [
             0.2222222222222222,
             "#7201a8"
            ],
            [
             0.3333333333333333,
             "#9c179e"
            ],
            [
             0.4444444444444444,
             "#bd3786"
            ],
            [
             0.5555555555555556,
             "#d8576b"
            ],
            [
             0.6666666666666666,
             "#ed7953"
            ],
            [
             0.7777777777777778,
             "#fb9f3a"
            ],
            [
             0.8888888888888888,
             "#fdca26"
            ],
            [
             1,
             "#f0f921"
            ]
           ]
          },
          "colorway": [
           "#636efa",
           "#EF553B",
           "#00cc96",
           "#ab63fa",
           "#FFA15A",
           "#19d3f3",
           "#FF6692",
           "#B6E880",
           "#FF97FF",
           "#FECB52"
          ],
          "font": {
           "color": "#2a3f5f"
          },
          "geo": {
           "bgcolor": "white",
           "lakecolor": "white",
           "landcolor": "#E5ECF6",
           "showlakes": true,
           "showland": true,
           "subunitcolor": "white"
          },
          "hoverlabel": {
           "align": "left"
          },
          "hovermode": "closest",
          "mapbox": {
           "style": "light"
          },
          "paper_bgcolor": "white",
          "plot_bgcolor": "#E5ECF6",
          "polar": {
           "angularaxis": {
            "gridcolor": "white",
            "linecolor": "white",
            "ticks": ""
           },
           "bgcolor": "#E5ECF6",
           "radialaxis": {
            "gridcolor": "white",
            "linecolor": "white",
            "ticks": ""
           }
          },
          "scene": {
           "xaxis": {
            "backgroundcolor": "#E5ECF6",
            "gridcolor": "white",
            "gridwidth": 2,
            "linecolor": "white",
            "showbackground": true,
            "ticks": "",
            "zerolinecolor": "white"
           },
           "yaxis": {
            "backgroundcolor": "#E5ECF6",
            "gridcolor": "white",
            "gridwidth": 2,
            "linecolor": "white",
            "showbackground": true,
            "ticks": "",
            "zerolinecolor": "white"
           },
           "zaxis": {
            "backgroundcolor": "#E5ECF6",
            "gridcolor": "white",
            "gridwidth": 2,
            "linecolor": "white",
            "showbackground": true,
            "ticks": "",
            "zerolinecolor": "white"
           }
          },
          "shapedefaults": {
           "line": {
            "color": "#2a3f5f"
           }
          },
          "ternary": {
           "aaxis": {
            "gridcolor": "white",
            "linecolor": "white",
            "ticks": ""
           },
           "baxis": {
            "gridcolor": "white",
            "linecolor": "white",
            "ticks": ""
           },
           "bgcolor": "#E5ECF6",
           "caxis": {
            "gridcolor": "white",
            "linecolor": "white",
            "ticks": ""
           }
          },
          "title": {
           "x": 0.05
          },
          "xaxis": {
           "automargin": true,
           "gridcolor": "white",
           "linecolor": "white",
           "ticks": "",
           "title": {
            "standoff": 15
           },
           "zerolinecolor": "white",
           "zerolinewidth": 2
          },
          "yaxis": {
           "automargin": true,
           "gridcolor": "white",
           "linecolor": "white",
           "ticks": "",
           "title": {
            "standoff": 15
           },
           "zerolinecolor": "white",
           "zerolinewidth": 2
          }
         }
        },
        "xaxis": {
         "anchor": "y",
         "constrain": "domain",
         "domain": [
          0,
          1
         ],
         "scaleanchor": "y"
        },
        "yaxis": {
         "anchor": "x",
         "autorange": "reversed",
         "constrain": "domain",
         "domain": [
          0,
          1
         ]
        }
       }
      }
     },
     "metadata": {},
     "output_type": "display_data"
    }
   ],
   "source": [
    "px.imshow(K_matrix.detach().numpy())"
   ]
  },
  {
   "cell_type": "code",
   "execution_count": 139,
   "metadata": {},
   "outputs": [
    {
     "ename": "RuntimeError",
     "evalue": "shape '[28, 28]' is invalid for input of size 10",
     "output_type": "error",
     "traceback": [
      "\u001b[31m---------------------------------------------------------------------------\u001b[39m",
      "\u001b[31mRuntimeError\u001b[39m                              Traceback (most recent call last)",
      "\u001b[36mCell\u001b[39m\u001b[36m \u001b[39m\u001b[32mIn[139]\u001b[39m\u001b[32m, line 5\u001b[39m\n\u001b[32m      3\u001b[39m     dec_eigvec = autoencoder.decode(eigvec[\u001b[32m0\u001b[39m].real)\n\u001b[32m      4\u001b[39m     dec_eigvec = undo_preprocessing_acts(dec_eigvec.unsqueeze(\u001b[32m0\u001b[39m), preproc_dict, final_idx, device)\n\u001b[32m----> \u001b[39m\u001b[32m5\u001b[39m px.imshow(-\u001b[43mdec_eigvec\u001b[49m\u001b[43m.\u001b[49m\u001b[43mreshape\u001b[49m\u001b[43m(\u001b[49m\u001b[32;43m28\u001b[39;49m\u001b[43m,\u001b[49m\u001b[43m \u001b[49m\u001b[32;43m28\u001b[39;49m\u001b[43m)\u001b[49m)\n",
      "\u001b[31mRuntimeError\u001b[39m: shape '[28, 28]' is invalid for input of size 10"
     ]
    }
   ],
   "source": [
    "with torch.no_grad():\n",
    "    eigval, eigvec = torch.linalg.eig(K_matrix)\n",
    "    dec_eigvec = autoencoder.decode(eigvec[0].real)\n",
    "    dec_eigvec = undo_preprocessing_acts(dec_eigvec.unsqueeze(0), preproc_dict, final_idx, device)\n",
    "px.imshow(-dec_eigvec.reshape(28, 28))"
   ]
  }
 ],
 "metadata": {
  "kernelspec": {
   "display_name": "koopmann-hxjVWsls-py3.11",
   "language": "python",
   "name": "python3"
  },
  "language_info": {
   "codemirror_mode": {
    "name": "ipython",
    "version": 3
   },
   "file_extension": ".py",
   "mimetype": "text/x-python",
   "name": "python",
   "nbconvert_exporter": "python",
   "pygments_lexer": "ipython3",
   "version": "3.11.10"
  }
 },
 "nbformat": 4,
 "nbformat_minor": 2
}
