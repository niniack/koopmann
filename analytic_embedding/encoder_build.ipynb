{
 "cells": [
  {
   "cell_type": "code",
   "execution_count": 12,
   "metadata": {},
   "outputs": [
    {
     "name": "stdout",
     "output_type": "stream",
     "text": [
      "The autoreload extension is already loaded. To reload it, use:\n",
      "  %reload_ext autoreload\n"
     ]
    }
   ],
   "source": [
    "import matplotlib.pyplot as plt\n",
    "import pandas as pd\n",
    "import plotly.express as px\n",
    "import seaborn as sns\n",
    "import torch\n",
    "from rich import print as rprint\n",
    "from torch import nn\n",
    "from torch.utils.data import DataLoader\n",
    "\n",
    "from analysis.common import load_model\n",
    "\n",
    "# from koopmann import aesthetics\n",
    "from koopmann.data import (\n",
    "    DatasetConfig,\n",
    "    get_dataset_class,\n",
    ")\n",
    "from koopmann.models import MLP, AnalyticEncoder\n",
    "from koopmann.utils import (\n",
    "    compute_model_accuracy,\n",
    "    get_device,\n",
    ")\n",
    "\n",
    "%load_ext autoreload\n",
    "%autoreload 2"
   ]
  },
  {
   "cell_type": "code",
   "execution_count": 13,
   "metadata": {},
   "outputs": [],
   "source": [
    "file_dir = \"/scratch/nsa325/koopmann_model_saves\"\n",
    "model_name = \"mlp\"\n",
    "device = get_device()"
   ]
  },
  {
   "cell_type": "code",
   "execution_count": 14,
   "metadata": {},
   "outputs": [
    {
     "data": {
      "text/plain": [
       "MLP(\n",
       "  (components): Sequential(\n",
       "    (linear_0): LinearLayer(\n",
       "      (components): ModuleDict(\n",
       "        (linear): Linear(in_features=784, out_features=512, bias=False)\n",
       "        (nonlinearity): ReLU()\n",
       "      )\n",
       "    )\n",
       "    (linear_1): LinearLayer(\n",
       "      (components): ModuleDict(\n",
       "        (linear): Linear(in_features=512, out_features=10, bias=False)\n",
       "      )\n",
       "    )\n",
       "  )\n",
       ")"
      ]
     },
     "execution_count": 14,
     "metadata": {},
     "output_type": "execute_result"
    }
   ],
   "source": [
    "model = MLP(\n",
    "    in_features=784,\n",
    "    out_features=10,\n",
    "    hidden_config=[512],\n",
    "    bias=False,\n",
    "    batchnorm=False,\n",
    "    nonlinearity=\"relu\",\n",
    ")\n",
    "model"
   ]
  },
  {
   "cell_type": "code",
   "execution_count": 15,
   "metadata": {},
   "outputs": [],
   "source": [
    "analytic_encoder = AnalyticEncoder.from_model(model)"
   ]
  },
  {
   "cell_type": "code",
   "execution_count": 16,
   "metadata": {},
   "outputs": [
    {
     "data": {
      "text/plain": [
       "MLP(\n",
       "  (components): Sequential(\n",
       "    (linear_0): LinearLayer(\n",
       "      (components): ModuleDict(\n",
       "        (linear): Linear(in_features=784, out_features=512, bias=False)\n",
       "        (nonlinearity): ReLU()\n",
       "      )\n",
       "    )\n",
       "    (linear_1): LinearLayer(\n",
       "      (components): ModuleDict(\n",
       "        (linear): Linear(in_features=512, out_features=10, bias=False)\n",
       "      )\n",
       "    )\n",
       "  )\n",
       ")"
      ]
     },
     "execution_count": 16,
     "metadata": {},
     "output_type": "execute_result"
    }
   ],
   "source": [
    "model"
   ]
  },
  {
   "cell_type": "code",
   "execution_count": 17,
   "metadata": {},
   "outputs": [],
   "source": [
    "# Dataset config\n",
    "dataset_config = DatasetConfig(\n",
    "    dataset_name=\"MNISTDataset\",\n",
    "    num_samples=3_000,\n",
    "    split=\"test\",\n",
    "    seed=42,\n",
    ")\n",
    "DatasetClass = get_dataset_class(name=dataset_config.dataset_name)\n",
    "dataset = DatasetClass(config=dataset_config)\n",
    "dataloader = DataLoader(dataset, batch_size=1000)"
   ]
  },
  {
   "cell_type": "code",
   "execution_count": 18,
   "metadata": {},
   "outputs": [],
   "source": [
    "inputs, labels = next(iter(dataloader))\n",
    "W_0 = model.components[0].components.linear.weight\n",
    "W_1 = model.components[1].components.linear.weight\n",
    "model_pred = model(inputs)"
   ]
  },
  {
   "cell_type": "code",
   "execution_count": 19,
   "metadata": {},
   "outputs": [],
   "source": [
    "dense_koopman = analytic_encoder.build_operator().to_dense()"
   ]
  },
  {
   "cell_type": "code",
   "execution_count": 20,
   "metadata": {},
   "outputs": [
    {
     "data": {
      "text/plain": [
       "tensor([[-0.0812, -0.0311, -0.0904,  ...,  0.0900,  0.0358,  0.0000],\n",
       "        [-0.0476,  0.0597,  0.0614,  ...,  0.0470,  0.0637,  0.0000],\n",
       "        [-0.0120,  0.0951, -0.0375,  ...,  0.0231,  0.0249,  0.0000],\n",
       "        ...,\n",
       "        [-0.0494,  0.0360,  0.0376,  ...,  0.0126,  0.0825,  0.0000],\n",
       "        [-0.0979,  0.0056,  0.0146,  ...,  0.0119,  0.0274,  0.0000],\n",
       "        [ 0.0393,  0.0092,  0.1405,  ...,  0.0276, -0.1266,  0.0000]])"
      ]
     },
     "execution_count": 20,
     "metadata": {},
     "output_type": "execute_result"
    }
   ],
   "source": [
    "dense_koopman[:10, :]"
   ]
  },
  {
   "cell_type": "code",
   "execution_count": 23,
   "metadata": {},
   "outputs": [],
   "source": [
    "x_embedded = analytic_encoder.forward(inputs)"
   ]
  },
  {
   "cell_type": "code",
   "execution_count": 22,
   "metadata": {},
   "outputs": [
    {
     "name": "stdout",
     "output_type": "stream",
     "text": [
      "tensor([ 0.6606, -0.4021,  0.1712, -0.5286, -0.3006,  1.0289,  0.2432, -1.8944,\n",
      "         0.2768,  0.6058], grad_fn=<SelectBackward0>)\n",
      "tensor([ 1.3374,  0.2477,  1.9115, -1.6500,  0.9678, -0.0663, -0.5192, -1.0517,\n",
      "         0.2461,  0.4203,  0.0000,  0.0000,  0.0000,  0.0000,  0.0000,  0.0000,\n",
      "         0.0000,  0.0000,  0.0000,  0.0000,  0.0000,  0.0000,  0.0000,  0.0000,\n",
      "         0.0000,  0.0000,  0.0000,  0.0000,  0.0000,  0.0000])\n"
     ]
    }
   ],
   "source": [
    "print(model_pred[0])\n",
    "print(x_embedded[0])"
   ]
  }
 ],
 "metadata": {
  "kernelspec": {
   "display_name": ".venv",
   "language": "python",
   "name": "python3"
  },
  "language_info": {
   "codemirror_mode": {
    "name": "ipython",
    "version": 3
   },
   "file_extension": ".py",
   "mimetype": "text/x-python",
   "name": "python",
   "nbconvert_exporter": "python",
   "pygments_lexer": "ipython3",
   "version": "3.11.3"
  }
 },
 "nbformat": 4,
 "nbformat_minor": 2
}
