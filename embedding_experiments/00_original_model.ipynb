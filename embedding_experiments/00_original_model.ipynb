{
 "cells": [
  {
   "cell_type": "code",
   "execution_count": 10,
   "metadata": {},
   "outputs": [
    {
     "name": "stdout",
     "output_type": "stream",
     "text": [
      "The autoreload extension is already loaded. To reload it, use:\n",
      "  %reload_ext autoreload\n"
     ]
    }
   ],
   "source": [
    "from rich import print as rprint\n",
    "from torch.utils.data import DataLoader\n",
    "\n",
    "from analysis.common import load_model\n",
    "\n",
    "# from koopmann import aesthetics\n",
    "from koopmann.data import (\n",
    "    DatasetConfig,\n",
    "    get_dataset_class,\n",
    ")\n",
    "from koopmann.utils import (\n",
    "    compute_model_accuracy,\n",
    "    get_device,\n",
    ")\n",
    "\n",
    "%load_ext autoreload\n",
    "%autoreload 2"
   ]
  },
  {
   "cell_type": "code",
   "execution_count": 11,
   "metadata": {},
   "outputs": [],
   "source": [
    "file_dir = \"/scratch/nsa325/koopmann_model_saves\"\n",
    "model_name = \"resmlp_mnist\"\n",
    "device = get_device()"
   ]
  },
  {
   "cell_type": "code",
   "execution_count": 12,
   "metadata": {},
   "outputs": [
    {
     "name": "stdout",
     "output_type": "stream",
     "text": [
      "{'batchnorm': True, 'bias': True, 'created_at': '2025-04-09T02:41:58.432513', 'dataset': 'MNISTDataset', 'hidden_config': [784, 784, 784, 784], 'in_features': 784, 'model_class': 'ResMLP', 'nonlinearity': 'relu', 'out_features': 10, 'stochastic_depth_mode': 'batch', 'stochastic_depth_prob': 0.0}\n"
     ]
    }
   ],
   "source": [
    "model, model_metadata = load_model(file_dir, model_name)\n",
    "model.hook_model().eval()\n",
    "print(model_metadata)"
   ]
  },
  {
   "cell_type": "code",
   "execution_count": 13,
   "metadata": {},
   "outputs": [],
   "source": [
    "# Dataset config\n",
    "dataset_config = DatasetConfig(\n",
    "    dataset_name=model_metadata[\"dataset\"],\n",
    "    num_samples=3_000,\n",
    "    split=\"test\",\n",
    "    seed=42,\n",
    ")\n",
    "DatasetClass = get_dataset_class(name=dataset_config.dataset_name)\n",
    "dataset = DatasetClass(config=dataset_config)\n",
    "dataloader = DataLoader(dataset, batch_size=512)"
   ]
  },
  {
   "cell_type": "code",
   "execution_count": 14,
   "metadata": {},
   "outputs": [
    {
     "data": {
      "text/html": [
       "<pre style=\"white-space:pre;overflow-x:auto;line-height:normal;font-family:Menlo,'DejaVu Sans Mono',consolas,'Courier New',monospace\">Testing Accuracy: <span style=\"color: #008080; text-decoration-color: #008080; font-weight: bold\">0.9904000163078308</span>\n",
       "</pre>\n"
      ],
      "text/plain": [
       "Testing Accuracy: \u001b[1;36m0.9904000163078308\u001b[0m\n"
      ]
     },
     "metadata": {},
     "output_type": "display_data"
    }
   ],
   "source": [
    "rprint(f\"Testing Accuracy: {compute_model_accuracy(model, dataloader, device)}\")"
   ]
  }
 ],
 "metadata": {
  "kernelspec": {
   "display_name": ".venv",
   "language": "python",
   "name": "python3"
  },
  "language_info": {
   "codemirror_mode": {
    "name": "ipython",
    "version": 3
   },
   "file_extension": ".py",
   "mimetype": "text/x-python",
   "name": "python",
   "nbconvert_exporter": "python",
   "pygments_lexer": "ipython3",
   "version": "3.11.3"
  }
 },
 "nbformat": 4,
 "nbformat_minor": 2
}
