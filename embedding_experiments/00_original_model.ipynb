{
 "cells": [
  {
   "cell_type": "code",
   "execution_count": 1,
   "metadata": {},
   "outputs": [],
   "source": [
    "from rich import print as rprint\n",
    "from torch.utils.data import DataLoader\n",
    "\n",
    "from analysis.common import load_model\n",
    "\n",
    "# from koopmann import aesthetics\n",
    "from koopmann.data import (\n",
    "    DatasetConfig,\n",
    "    get_dataset_class,\n",
    ")\n",
    "from koopmann.utils import (\n",
    "    compute_model_accuracy,\n",
    "    get_device,\n",
    ")\n",
    "\n",
    "%load_ext autoreload\n",
    "%autoreload 2"
   ]
  },
  {
   "cell_type": "code",
   "execution_count": 2,
   "metadata": {},
   "outputs": [],
   "source": [
    "file_dir = \"/scratch/nsa325/koopmann_model_saves\"\n",
    "model_name = \"convresnet_mnist\"\n",
    "device = get_device()"
   ]
  },
  {
   "cell_type": "code",
   "execution_count": 3,
   "metadata": {},
   "outputs": [
    {
     "name": "stdout",
     "output_type": "stream",
     "text": [
      "{'batchnorm': True, 'bias': False, 'blocks_per_stage': [2, 2, 2, 2], 'created_at': '2025-04-22T01:57:26.445470', 'dataset': 'MNISTDataset', 'hidden_config': [64, 128, 256, 512], 'in_channels': 1, 'initial_downsample_factor': 2, 'input_size': (28, 28), 'model_class': 'ConvResNet', 'nonlinearity': 'relu', 'out_features': 10, 'stochastic_depth_mode': 'batch', 'stochastic_depth_prob': 0.0}\n"
     ]
    }
   ],
   "source": [
    "model, model_metadata = load_model(file_dir, model_name)\n",
    "model.hook_model().eval()\n",
    "print(model_metadata)"
   ]
  },
  {
   "cell_type": "code",
   "execution_count": 4,
   "metadata": {},
   "outputs": [],
   "source": [
    "# Dataset config\n",
    "dataset_config = DatasetConfig(\n",
    "    dataset_name=model_metadata[\"dataset\"],\n",
    "    num_samples=3_000,\n",
    "    split=\"test\",\n",
    "    seed=42,\n",
    ")\n",
    "DatasetClass = get_dataset_class(name=dataset_config.dataset_name)\n",
    "dataset = DatasetClass(config=dataset_config)\n",
    "dataloader = DataLoader(dataset, batch_size=512)"
   ]
  },
  {
   "cell_type": "code",
   "execution_count": 5,
   "metadata": {},
   "outputs": [
    {
     "data": {
      "text/html": [
       "<pre style=\"white-space:pre;overflow-x:auto;line-height:normal;font-family:Menlo,'DejaVu Sans Mono',consolas,'Courier New',monospace\">Testing Accuracy: <span style=\"color: #008080; text-decoration-color: #008080; font-weight: bold\">0.9961000084877014</span>\n",
       "</pre>\n"
      ],
      "text/plain": [
       "Testing Accuracy: \u001b[1;36m0.9961000084877014\u001b[0m\n"
      ]
     },
     "metadata": {},
     "output_type": "display_data"
    }
   ],
   "source": [
    "rprint(f\"Testing Accuracy: {compute_model_accuracy(model, dataloader, device)}\")"
   ]
  }
 ],
 "metadata": {
  "kernelspec": {
   "display_name": ".venv",
   "language": "python",
   "name": "python3"
  },
  "language_info": {
   "codemirror_mode": {
    "name": "ipython",
    "version": 3
   },
   "file_extension": ".py",
   "mimetype": "text/x-python",
   "name": "python",
   "nbconvert_exporter": "python",
   "pygments_lexer": "ipython3",
   "version": "3.11.3"
  }
 },
 "nbformat": 4,
 "nbformat_minor": 2
}
