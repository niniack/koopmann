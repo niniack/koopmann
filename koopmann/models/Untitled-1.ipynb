{
 "cells": [
  {
   "cell_type": "code",
   "execution_count": 2,
   "metadata": {},
   "outputs": [],
   "source": [
    "from koopmann.models import Autoencoder, KoopmanAutoencoder"
   ]
  },
  {
   "cell_type": "code",
   "execution_count": 4,
   "metadata": {},
   "outputs": [
    {
     "data": {
      "text/plain": [
       "KoopmanAutoencoder(\n",
       "  (components): Sequential(\n",
       "    (encoder): Sequential(\n",
       "      (encoder_0): LinearLayer(\n",
       "        (components): ModuleDict(\n",
       "          (linear): Linear(in_features=10, out_features=20, bias=True)\n",
       "          (nonlinearity): LeakyReLU(negative_slope=0.01)\n",
       "        )\n",
       "      )\n",
       "    )\n",
       "    (koopman_matrix): LinearLayer(\n",
       "      (components): ModuleDict(\n",
       "        (linear): Linear(in_features=20, out_features=20, bias=False)\n",
       "      )\n",
       "    )\n",
       "    (decoder): Sequential(\n",
       "      (decoder_0): LinearLayer(\n",
       "        (components): ModuleDict(\n",
       "          (linear): Linear(in_features=20, out_features=10, bias=True)\n",
       "        )\n",
       "      )\n",
       "    )\n",
       "  )\n",
       ")"
      ]
     },
     "execution_count": 4,
     "metadata": {},
     "output_type": "execute_result"
    }
   ],
   "source": [
    "KoopmanAutoencoder(k_steps=1, in_features=10, latent_features=20)"
   ]
  },
  {
   "cell_type": "code",
   "execution_count": null,
   "metadata": {},
   "outputs": [],
   "source": []
  }
 ],
 "metadata": {
  "kernelspec": {
   "display_name": "Python 3",
   "language": "python",
   "name": "python3"
  },
  "language_info": {
   "codemirror_mode": {
    "name": "ipython",
    "version": 3
   },
   "file_extension": ".py",
   "mimetype": "text/x-python",
   "name": "python",
   "nbconvert_exporter": "python",
   "pygments_lexer": "ipython3",
   "version": "3.11.3"
  }
 },
 "nbformat": 4,
 "nbformat_minor": 2
}
