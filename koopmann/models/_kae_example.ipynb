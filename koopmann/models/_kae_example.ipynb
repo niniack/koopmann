{
 "cells": [
  {
   "cell_type": "code",
   "execution_count": 1,
   "metadata": {},
   "outputs": [],
   "source": [
    "import torch\n",
    "\n",
    "from koopmann.models import Autoencoder, KoopmanAutoencoder\n",
    "\n",
    "%load_ext autoreload\n",
    "%autoreload 2"
   ]
  },
  {
   "cell_type": "code",
   "execution_count": 2,
   "metadata": {},
   "outputs": [
    {
     "data": {
      "text/plain": [
       "KoopmanAutoencoder(\n",
       "  (components): Sequential(\n",
       "    (encoder): Sequential(\n",
       "      (encoder_conv): Conv1DLayer(\n",
       "        (components): ModuleDict(\n",
       "          (conv): Conv1d(1, 16, kernel_size=(3,), stride=(1,), padding=(1,))\n",
       "          (nonlinearity): LeakyReLU(negative_slope=0.01)\n",
       "        )\n",
       "      )\n",
       "      (flatten): Flatten(start_dim=1, end_dim=-1)\n",
       "      (encoder_linear_0): LinearLayer(\n",
       "        (components): ModuleDict(\n",
       "          (linear): Linear(in_features=160, out_features=20, bias=True)\n",
       "          (nonlinearity): LeakyReLU(negative_slope=0.01)\n",
       "        )\n",
       "      )\n",
       "    )\n",
       "    (koopman_matrix): LinearLayer(\n",
       "      (components): ModuleDict(\n",
       "        (linear): Linear(in_features=20, out_features=20, bias=False)\n",
       "      )\n",
       "    )\n",
       "    (decoder): Sequential(\n",
       "      (decoder_0): LinearLayer(\n",
       "        (components): ModuleDict(\n",
       "          (linear): Linear(in_features=20, out_features=10, bias=True)\n",
       "        )\n",
       "      )\n",
       "    )\n",
       "  )\n",
       ")"
      ]
     },
     "execution_count": 2,
     "metadata": {},
     "output_type": "execute_result"
    }
   ],
   "source": [
    "kae = KoopmanAutoencoder(k_steps=1, in_features=10, latent_features=20)\n",
    "kae"
   ]
  },
  {
   "cell_type": "code",
   "execution_count": 3,
   "metadata": {},
   "outputs": [
    {
     "name": "stdout",
     "output_type": "stream",
     "text": [
      "tensor([[-0.1000, -0.5208, -0.0479,  0.4294, -0.8115, -0.7728,  0.0780, -0.1704,\n",
      "         -0.2953, -0.0414]], grad_fn=<AddmmBackward0>)\n"
     ]
    },
    {
     "data": {
      "text/plain": [
       "tensor([[-0.1000, -0.5208, -0.0479,  0.4294, -0.8115, -0.7728,  0.0780, -0.1704,\n",
       "         -0.2953, -0.0414]], grad_fn=<AddmmBackward0>)"
      ]
     },
     "execution_count": 3,
     "metadata": {},
     "output_type": "execute_result"
    }
   ],
   "source": [
    "rand_input = torch.randn(1, 10)\n",
    "print(kae(rand_input).reconstruction)\n",
    "\n",
    "kae.decode(kae.encode(rand_input))"
   ]
  },
  {
   "cell_type": "code",
   "execution_count": null,
   "metadata": {},
   "outputs": [],
   "source": []
  }
 ],
 "metadata": {
  "kernelspec": {
   "display_name": "Python 3",
   "language": "python",
   "name": "python3"
  },
  "language_info": {
   "codemirror_mode": {
    "name": "ipython",
    "version": 3
   },
   "file_extension": ".py",
   "mimetype": "text/x-python",
   "name": "python",
   "nbconvert_exporter": "python",
   "pygments_lexer": "ipython3",
   "version": "3.11.3"
  }
 },
 "nbformat": 4,
 "nbformat_minor": 2
}
