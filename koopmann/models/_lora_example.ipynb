{
 "cells": [
  {
   "cell_type": "code",
   "execution_count": 11,
   "metadata": {},
   "outputs": [],
   "source": [
    "import torch\n",
    "\n",
    "from koopmann.models import LowRankKoopmanAutoencoder"
   ]
  },
  {
   "cell_type": "code",
   "execution_count": 12,
   "metadata": {},
   "outputs": [],
   "source": [
    "lorakae = LowRankKoopmanAutoencoder(rank=10, k_steps=1, in_features=784, latent_features=512)\n",
    "lora_down = lorakae.components.koopman_matrix.components.lora_down\n",
    "lora_up = lorakae.components.koopman_matrix.components.lora_up"
   ]
  },
  {
   "cell_type": "code",
   "execution_count": 13,
   "metadata": {},
   "outputs": [],
   "source": [
    "x = torch.randn((1, 512))\n",
    "\n",
    "resa = x @ lorakae.koopman_weights.T\n",
    "resb = lora_up(lora_down(x))"
   ]
  },
  {
   "cell_type": "code",
   "execution_count": 14,
   "metadata": {},
   "outputs": [
    {
     "data": {
      "text/plain": [
       "tensor([ 0.0417,  0.0531, -0.0057, -0.0387, -0.0839,  0.0192, -0.0123, -0.0044,\n",
       "        -0.0262, -0.0759], grad_fn=<SliceBackward0>)"
      ]
     },
     "execution_count": 14,
     "metadata": {},
     "output_type": "execute_result"
    }
   ],
   "source": [
    "resa[0, :10]"
   ]
  },
  {
   "cell_type": "code",
   "execution_count": 15,
   "metadata": {},
   "outputs": [
    {
     "data": {
      "text/plain": [
       "tensor([ 0.0417,  0.0531, -0.0057, -0.0387, -0.0839,  0.0192, -0.0123, -0.0044,\n",
       "        -0.0262, -0.0759], grad_fn=<SliceBackward0>)"
      ]
     },
     "execution_count": 15,
     "metadata": {},
     "output_type": "execute_result"
    }
   ],
   "source": [
    "resb[0, :10]"
   ]
  },
  {
   "cell_type": "code",
   "execution_count": 16,
   "metadata": {},
   "outputs": [
    {
     "data": {
      "text/plain": [
       "Parameter containing:\n",
       "tensor([[-0.0359, -0.0408,  0.0135,  ..., -0.0069,  0.0161, -0.0389],\n",
       "        [ 0.0151, -0.0420,  0.0081,  ...,  0.0044, -0.0027,  0.0201],\n",
       "        [-0.0431, -0.0120,  0.0395,  ..., -0.0342,  0.0392,  0.0077],\n",
       "        ...,\n",
       "        [-0.0081, -0.0341,  0.0013,  ...,  0.0023, -0.0413,  0.0061],\n",
       "        [-0.0036,  0.0140,  0.0265,  ...,  0.0126,  0.0346,  0.0195],\n",
       "        [ 0.0354, -0.0385,  0.0173,  ...,  0.0424,  0.0441, -0.0171]],\n",
       "       requires_grad=True)"
      ]
     },
     "execution_count": 16,
     "metadata": {},
     "output_type": "execute_result"
    }
   ],
   "source": [
    "lora_down.weight"
   ]
  },
  {
   "cell_type": "code",
   "execution_count": 17,
   "metadata": {},
   "outputs": [
    {
     "data": {
      "text/plain": [
       "tensor([[-0.0359, -0.0408,  0.0135,  ..., -0.0069,  0.0161, -0.0389],\n",
       "        [ 0.0151, -0.0420,  0.0081,  ...,  0.0044, -0.0027,  0.0201],\n",
       "        [-0.0431, -0.0120,  0.0395,  ..., -0.0342,  0.0392,  0.0077],\n",
       "        ...,\n",
       "        [-0.0081, -0.0341,  0.0013,  ...,  0.0023, -0.0413,  0.0061],\n",
       "        [-0.0036,  0.0140,  0.0265,  ...,  0.0126,  0.0346,  0.0195],\n",
       "        [ 0.0354, -0.0385,  0.0173,  ...,  0.0424,  0.0441, -0.0171]],\n",
       "       grad_fn=<TBackward0>)"
      ]
     },
     "execution_count": 17,
     "metadata": {},
     "output_type": "execute_result"
    }
   ],
   "source": [
    "lora_up.weight.t()"
   ]
  },
  {
   "cell_type": "code",
   "execution_count": null,
   "metadata": {},
   "outputs": [],
   "source": []
  }
 ],
 "metadata": {
  "kernelspec": {
   "display_name": ".venv",
   "language": "python",
   "name": "python3"
  },
  "language_info": {
   "codemirror_mode": {
    "name": "ipython",
    "version": 3
   },
   "file_extension": ".py",
   "mimetype": "text/x-python",
   "name": "python",
   "nbconvert_exporter": "python",
   "pygments_lexer": "ipython3",
   "version": "3.11.3"
  }
 },
 "nbformat": 4,
 "nbformat_minor": 2
}
